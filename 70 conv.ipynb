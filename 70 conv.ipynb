{
 "cells": [
  {
   "cell_type": "code",
   "execution_count": 1,
   "metadata": {},
   "outputs": [
    {
     "name": "stderr",
     "output_type": "stream",
     "text": [
      "/home/ubuntu/anaconda3/envs/tensorflow_p36/lib/python3.6/site-packages/matplotlib/__init__.py:1067: UserWarning: Duplicate key in file \"/home/ubuntu/.config/matplotlib/matplotlibrc\", line #2\n",
      "  (fname, cnt))\n",
      "/home/ubuntu/anaconda3/envs/tensorflow_p36/lib/python3.6/site-packages/matplotlib/__init__.py:1067: UserWarning: Duplicate key in file \"/home/ubuntu/.config/matplotlib/matplotlibrc\", line #3\n",
      "  (fname, cnt))\n"
     ]
    }
   ],
   "source": [
    "import pandas as pd\n",
    "from sklearn import svm\n",
    "from sklearn.model_selection import train_test_split\n",
    "from sklearn.metrics import accuracy_score\n",
    "import numpy as np\n",
    "from sklearn.model_selection import *\n",
    "from sklearn.metrics import roc_auc_score"
   ]
  },
  {
   "cell_type": "code",
   "execution_count": 2,
   "metadata": {},
   "outputs": [],
   "source": [
    "N=26500"
   ]
  },
  {
   "cell_type": "code",
   "execution_count": 3,
   "metadata": {},
   "outputs": [],
   "source": [
    "data = pd.read_csv('./Xtrain_challenge_owkin.csv',nrows=N)\n",
    "data=data.drop('Ids', axis=1)\n",
    "data=data.values\n",
    "y = pd.read_csv('./challenge_output_data_training_file_disease_prediction_from_dna_data.csv',nrows=N,sep=';')\n",
    "y=y.drop('Ids', axis=1)\n",
    "y=y.values\n",
    " ## maybe concatenate the SNPs ?"
   ]
  },
  {
   "cell_type": "markdown",
   "metadata": {},
   "source": [
    "# Should be paire 2 by 2 ? Careful to onehot"
   ]
  },
  {
   "cell_type": "code",
   "execution_count": 4,
   "metadata": {},
   "outputs": [],
   "source": [
    "#dataAgg=data.astype('str')\n",
    "#dataAggOdd=dataAgg[:, 0::2]\n",
    "#dataAggEven=dataAgg[:, 1::2]\n",
    "#dataAgg=np.core.defchararray.add(dataAggOdd,dataAggEven)\n",
    "#dataAgg=dataAgg.astype(np.uint8)\n"
   ]
  },
  {
   "cell_type": "code",
   "execution_count": 5,
   "metadata": {},
   "outputs": [],
   "source": [
    "#my_dict = {1:1, 0:0, 11:3, 10:2}\n",
    "#dataAgg=np.vectorize(my_dict.get)(dataAgg)"
   ]
  },
  {
   "cell_type": "code",
   "execution_count": 6,
   "metadata": {},
   "outputs": [],
   "source": [
    "#dataAggHot=(np.arange(dataAgg.max()) == dataAgg[...,None]-1).astype(int)"
   ]
  },
  {
   "cell_type": "code",
   "execution_count": 7,
   "metadata": {},
   "outputs": [],
   "source": [
    "#dataAggHot=np.reshape(np.ravel(dataAggHot), (N, 54372))"
   ]
  },
  {
   "cell_type": "code",
   "execution_count": 8,
   "metadata": {},
   "outputs": [],
   "source": [
    "#meanH=dataAggHot.mean()\n",
    "#stdH=dataAggHot.std()\n",
    "#dataAggHot=(dataAggHot-meanH)/stdH\n",
    "#x_trainH, x_testH, y_trainH, y_testH = train_test_split(dataAggHot,y.ravel(),test_size=0.2,train_size=0.8,random_state=777)\n",
    "#print(\"Size of training set = \"+str(len(x_trainH)))\n",
    "#print(\"Size of test set = \"+str(len(x_testH)))"
   ]
  },
  {
   "cell_type": "markdown",
   "metadata": {},
   "source": [
    "# Nope ?"
   ]
  },
  {
   "cell_type": "code",
   "execution_count": 9,
   "metadata": {},
   "outputs": [
    {
     "name": "stdout",
     "output_type": "stream",
     "text": [
      "Size of training set = 21200\n",
      "Size of test set = 5300\n"
     ]
    }
   ],
   "source": [
    "mean=data.mean()\n",
    "std=data.std()\n",
    "data=(data-mean)/std\n",
    "x_train, x_test, y_train, y_test = train_test_split(data,y.ravel(),test_size=0.2,train_size=0.8,random_state=777)\n",
    "print(\"Size of training set = \"+str(len(x_train)))\n",
    "print(\"Size of test set = \"+str(len(x_test)))"
   ]
  },
  {
   "cell_type": "code",
   "execution_count": 10,
   "metadata": {},
   "outputs": [],
   "source": [
    "w=36248"
   ]
  },
  {
   "cell_type": "code",
   "execution_count": 11,
   "metadata": {},
   "outputs": [],
   "source": [
    "#svm_rbf = svm.SVC(kernel='rbf', C=1e3, gamma=0.1)\n",
    "#svm_lin = svm.SVC(kernel='linear', C=1e3)\n",
    "#svm_poly = svm.SVC(kernel='poly', C=1e3, degree=2)\n",
    "#y_rbf = svm_rbf.fit(x_train, y_train).predict(x_test)\n",
    "#y_lin = svm_lin.fit(x_train, y_train).predict(x_test)\n",
    "#y_poly = svm_poly.fit(x_train, y_train).predict(x_test)"
   ]
  },
  {
   "cell_type": "code",
   "execution_count": 12,
   "metadata": {},
   "outputs": [],
   "source": [
    "#print(roc_auc_score(y_test,y_rbf))\n",
    "#print(roc_auc_score(y_test,y_lin))\n",
    "#print(roc_auc_score(y_test,y_poly))"
   ]
  },
  {
   "cell_type": "code",
   "execution_count": 13,
   "metadata": {},
   "outputs": [],
   "source": [
    "#print(accuracy_score(y_test,y_rbf))\n",
    "#print(accuracy_score(y_test,y_lin))\n",
    "#print(accuracy_score(y_test,y_poly))"
   ]
  },
  {
   "cell_type": "code",
   "execution_count": 14,
   "metadata": {},
   "outputs": [],
   "source": [
    "tuned_parameters = [{'kernel': ['rbf'], 'gamma': [1e-1,1e-2,1e-3, 1,10],\n",
    "                     'C': [1e-3,1e-2,1e-1,1, 10, 100, 1000]},\n",
    "                    {'kernel': ['linear'], 'C': [1e-3,1e-2,1e-1,1, 10, 100, 900,1000,1100,1200]}]\n",
    "\n",
    "\n",
    "#clf = GridSearchCV(svm.SVC(C=1), tuned_parameters, cv=5)\n",
    "#clf.fit(x_train, y_train.ravel())\n",
    "#print(clf.best_params_)\n",
    "#y_true, y_pred = y_test, clf.predict(x_test)\n",
    "#print(accuracy_score(y_true,y_pred))"
   ]
  },
  {
   "cell_type": "markdown",
   "metadata": {},
   "source": [
    "# Forest"
   ]
  },
  {
   "cell_type": "code",
   "execution_count": 15,
   "metadata": {},
   "outputs": [],
   "source": [
    "from sklearn.ensemble import RandomForestClassifier"
   ]
  },
  {
   "cell_type": "code",
   "execution_count": 16,
   "metadata": {},
   "outputs": [],
   "source": [
    "# use a full grid over all parameters\n",
    "clf = RandomForestClassifier(n_estimators=200)\n",
    "param_grid = {\"max_depth\": [3, None],\n",
    "              \"max_features\": [1, 3, 10],\n",
    "              \"min_samples_split\": [2, 3, 5,10,20],\n",
    "              \"min_samples_leaf\": [1, 3, 5,10,20],\n",
    "              \"bootstrap\": [True],\n",
    "              \"criterion\": [\"gini\"]}\n",
    "#grid_search = GridSearchCV(clf, param_grid=param_grid)\n",
    "#grid_search.fit(x_train, y_train.ravel())\n",
    "#print(grid_search.best_params_)\n",
    "#y_true, y_pred = y_test, grid_search.predict(x_test)\n",
    "#print(accuracy_score(y_true,y_pred))"
   ]
  },
  {
   "cell_type": "code",
   "execution_count": null,
   "metadata": {},
   "outputs": [],
   "source": []
  },
  {
   "cell_type": "markdown",
   "metadata": {},
   "source": [
    "# One H data"
   ]
  },
  {
   "cell_type": "code",
   "execution_count": 17,
   "metadata": {},
   "outputs": [],
   "source": [
    "# use a full grid over all parameters\n",
    "clf = RandomForestClassifier(n_estimators=200)\n",
    "param_grid = {\"max_depth\": [3, None],\n",
    "              \"max_features\": [1, 3, 10],\n",
    "              \"min_samples_split\": [2, 3, 5,10,20],\n",
    "              \"min_samples_leaf\": [1, 3, 5,10,20],\n",
    "              \"bootstrap\": [True],\n",
    "              \"criterion\": [\"gini\"]}\n",
    "#grid_search = GridSearchCV(clf, param_grid=param_grid)\n",
    "#grid_search.fit(x_trainH, y_train.ravel())\n",
    "#print(grid_search.best_params_)\n",
    "#y_true, y_pred = y_test, grid_search.predict(x_testH)\n",
    "#print(accuracy_score(y_true,y_pred))"
   ]
  },
  {
   "cell_type": "code",
   "execution_count": 18,
   "metadata": {},
   "outputs": [],
   "source": [
    "#svm_rbf = svm.SVC(kernel='rbf', C=1e3, gamma=0.1)\n",
    "#svm_lin = svm.SVC(kernel='linear', C=1e3)\n",
    "#svm_poly = svm.SVC(kernel='poly', C=1e3, degree=2)\n",
    "#y_rbf = svm_rbf.fit(x_trainH, y_train).predict(x_testH)\n",
    "#y_lin = svm_lin.fit(x_trainH, y_train).predict(x_testH)\n",
    "#y_poly = svm_poly.fit(x_trainH, y_train).predict(x_testH)"
   ]
  },
  {
   "cell_type": "code",
   "execution_count": 19,
   "metadata": {},
   "outputs": [],
   "source": [
    "#print(accuracy_score(y_test,y_rbf))\n",
    "#print(accuracy_score(y_test,y_lin))\n",
    "#print(accuracy_score(y_test,y_poly))"
   ]
  },
  {
   "cell_type": "code",
   "execution_count": 20,
   "metadata": {},
   "outputs": [],
   "source": [
    "#tuned_parameters = [{'kernel': ['rbf'], 'gamma': [1e-1,1e-2,1e-3, 1,10],\n",
    "#                     'C': [1e-3,1e-2,1e-1,1, 10, 100, 1000]},\n",
    "#                    {'kernel': ['linear'], 'C': [1e-3,1e-2,1e-1,1, 10, 100, 900,1000,1100,1200]}]#\n",
    "\n",
    "\n",
    "#clf = GridSearchCV(svm.SVC(C=1), tuned_parameters, cv=5)\n",
    "#clf.fit(x_trainH, y_train.ravel())\n",
    "#print(clf.best_params_)\n",
    "#y_true, y_pred = y_test, clf.predict(x_testH)\n",
    "#print(accuracy_score(y_true,y_pred))"
   ]
  },
  {
   "cell_type": "markdown",
   "metadata": {},
   "source": [
    "# Deep ?"
   ]
  },
  {
   "cell_type": "code",
   "execution_count": 21,
   "metadata": {},
   "outputs": [
    {
     "name": "stderr",
     "output_type": "stream",
     "text": [
      "/home/ubuntu/anaconda3/envs/tensorflow_p36/lib/python3.6/site-packages/h5py/__init__.py:36: FutureWarning: Conversion of the second argument of issubdtype from `float` to `np.floating` is deprecated. In future, it will be treated as `np.float64 == np.dtype(float).type`.\n",
      "  from ._conv import register_converters as _register_converters\n",
      "Using TensorFlow backend.\n"
     ]
    }
   ],
   "source": [
    "from keras.models import Model\n",
    "from keras.models import Sequential\n",
    "from keras.layers import Dense, Input, Flatten, Dropout, Merge\n",
    "from keras.layers import Conv1D, MaxPooling1D, Embedding\n",
    "from keras.optimizers import Adam"
   ]
  },
  {
   "cell_type": "code",
   "execution_count": 22,
   "metadata": {},
   "outputs": [],
   "source": [
    "def ConvNet( width,  trainable=False):\n",
    "    \n",
    " \n",
    "    \n",
    "    sequence_input = Input(shape=(width,1), dtype=\"float32\", name=\"Input\")\n",
    "    \n",
    "    l_conv0 = Conv1D(filters=32, kernel_size=5, activation='relu')(sequence_input)\n",
    "    l_pool0 = MaxPooling1D(pool_size=3)(l_conv0)\n",
    "    \n",
    "    convs = []\n",
    "    filter_sizes = [3, 4, 5]\n",
    "    \n",
    "    for filter_size in filter_sizes:\n",
    "        l_conv = Conv1D(filters=32, kernel_size=filter_size, activation='relu')(l_pool0)\n",
    "        l_pool = MaxPooling1D(pool_size=3)(l_conv)\n",
    "        convs.append(l_pool)\n",
    "    \n",
    "    l_merge = Merge(mode='concat', concat_axis=1, name=\"Merge\")(convs)\n",
    "    \n",
    "    l_conv1 = Conv1D(filters=32, kernel_size=5, activation='relu')(l_merge)\n",
    "\n",
    "    \n",
    "    l_drop  = Dropout(0.5)(l_conv1)\n",
    "    \n",
    "    \n",
    "    \n",
    "    convs = []# ?\n",
    "    for filter_size in filter_sizes:\n",
    "        l_conv = Conv1D(filters=32, kernel_size=filter_size, activation='relu')(l_drop)\n",
    "        l_pool = MaxPooling1D(pool_size=3)(l_conv)\n",
    "        convs.append(l_pool)\n",
    "    \n",
    "    l_merge2 = Merge(mode='concat', concat_axis=1, name=\"Merge\")(convs)\n",
    "    \n",
    "    l_conv2 = Conv1D(filters=32, kernel_size=5, activation='relu')(l_merge)\n",
    "    l_pool2 = MaxPooling1D(pool_size=10)(l_conv1)\n",
    "    \n",
    "    l_drop2  = Dropout(0.5)(l_pool2)\n",
    "    \n",
    "    l_flat2  = Flatten(name=\"Flatten\")(l_drop2)\n",
    "    \n",
    "    l_dense = Dense(100, activation='relu', name=\"Dense\")(l_flat2)\n",
    "    \n",
    "    \n",
    "    preds = Dense(2, activation='softmax', name=\"Output\")(l_dense)\n",
    "    \n",
    "    model = Model(sequence_input, preds)\n",
    "    \n",
    "    return model"
   ]
  },
  {
   "cell_type": "code",
   "execution_count": 23,
   "metadata": {},
   "outputs": [],
   "source": [
    "x_train_t, x_val, y_train_t, y_val = train_test_split(x_train,y_train.ravel(),test_size=0.2,train_size=0.8,random_state=777)\n",
    "\n",
    "t,_=x_train_t.shape\n",
    "\n",
    "x_train_t=np.reshape(x_train_t,(t, 36248,1))\n",
    "y_train_t=np.reshape(y_train_t,(t, 1))\n",
    "\n",
    "t,_=x_val.shape\n",
    "x_val=np.reshape(x_val,(t, 36248,1))\n",
    "y_val=np.reshape(y_val,(t, 1))"
   ]
  },
  {
   "cell_type": "code",
   "execution_count": 24,
   "metadata": {},
   "outputs": [],
   "source": [
    "\n",
    "\n",
    "conv = Sequential()\n",
    "conv.add(Conv1D(20, 4, input_shape = x_train_t.shape[1:3], activation = 'relu'))\n",
    "conv.add(MaxPooling1D(2))\n",
    "conv.add(Conv1D(20, 4, input_shape = x_train_t.shape[1:3], activation = 'relu'))\n",
    "conv.add(MaxPooling1D(2))\n",
    "conv.add(Conv1D(20, 4, input_shape = x_train_t.shape[1:3], activation = 'relu'))\n",
    "conv.add(MaxPooling1D(2))\n",
    "conv.add(Dropout(0.5))\n",
    "conv.add(Conv1D(20, 4, input_shape = x_train_t.shape[1:3], activation = 'relu'))\n",
    "conv.add(MaxPooling1D(2))\n",
    "\n",
    "conv.add(Flatten())\n",
    "conv.add(Dense(100, activation = 'sigmoid'))\n",
    "conv.add(Dense(40, activation = 'sigmoid'))\n",
    "conv.add(Dense(20, activation = 'sigmoid'))\n",
    "conv.add(Dense(1, activation = 'sigmoid'))"
   ]
  },
  {
   "cell_type": "code",
   "execution_count": 25,
   "metadata": {},
   "outputs": [
    {
     "name": "stdout",
     "output_type": "stream",
     "text": [
      "_________________________________________________________________\n",
      "Layer (type)                 Output Shape              Param #   \n",
      "=================================================================\n",
      "conv1d_1 (Conv1D)            (None, 36245, 20)         100       \n",
      "_________________________________________________________________\n",
      "max_pooling1d_1 (MaxPooling1 (None, 18122, 20)         0         \n",
      "_________________________________________________________________\n",
      "conv1d_2 (Conv1D)            (None, 18119, 20)         1620      \n",
      "_________________________________________________________________\n",
      "max_pooling1d_2 (MaxPooling1 (None, 9059, 20)          0         \n",
      "_________________________________________________________________\n",
      "conv1d_3 (Conv1D)            (None, 9056, 20)          1620      \n",
      "_________________________________________________________________\n",
      "max_pooling1d_3 (MaxPooling1 (None, 4528, 20)          0         \n",
      "_________________________________________________________________\n",
      "dropout_1 (Dropout)          (None, 4528, 20)          0         \n",
      "_________________________________________________________________\n",
      "conv1d_4 (Conv1D)            (None, 4525, 20)          1620      \n",
      "_________________________________________________________________\n",
      "max_pooling1d_4 (MaxPooling1 (None, 2262, 20)          0         \n",
      "_________________________________________________________________\n",
      "flatten_1 (Flatten)          (None, 45240)             0         \n",
      "_________________________________________________________________\n",
      "dense_1 (Dense)              (None, 100)               4524100   \n",
      "_________________________________________________________________\n",
      "dense_2 (Dense)              (None, 40)                4040      \n",
      "_________________________________________________________________\n",
      "dense_3 (Dense)              (None, 20)                820       \n",
      "_________________________________________________________________\n",
      "dense_4 (Dense)              (None, 1)                 21        \n",
      "=================================================================\n",
      "Total params: 4,533,941\n",
      "Trainable params: 4,533,941\n",
      "Non-trainable params: 0\n",
      "_________________________________________________________________\n"
     ]
    }
   ],
   "source": [
    "conv.summary()"
   ]
  },
  {
   "cell_type": "code",
   "execution_count": 26,
   "metadata": {
    "scrolled": true
   },
   "outputs": [
    {
     "name": "stderr",
     "output_type": "stream",
     "text": [
      "/home/ubuntu/anaconda3/envs/tensorflow_p36/lib/python3.6/site-packages/ipykernel/__main__.py:18: UserWarning: The `Merge` layer is deprecated and will be removed after 08/2017. Use instead layers from `keras.layers.merge`, e.g. `add`, `concatenate`, etc.\n",
      "/home/ubuntu/anaconda3/envs/tensorflow_p36/lib/python3.6/site-packages/ipykernel/__main__.py:33: UserWarning: The `Merge` layer is deprecated and will be removed after 08/2017. Use instead layers from `keras.layers.merge`, e.g. `add`, `concatenate`, etc.\n"
     ]
    }
   ],
   "source": [
    "model = ConvNet(\n",
    "                w, \\\n",
    "                trainable=False)"
   ]
  },
  {
   "cell_type": "code",
   "execution_count": 27,
   "metadata": {
    "scrolled": true
   },
   "outputs": [
    {
     "name": "stdout",
     "output_type": "stream",
     "text": [
      "__________________________________________________________________________________________________\n",
      "Layer (type)                    Output Shape         Param #     Connected to                     \n",
      "==================================================================================================\n",
      "Input (InputLayer)              (None, 36248, 1)     0                                            \n",
      "__________________________________________________________________________________________________\n",
      "conv1d_5 (Conv1D)               (None, 36244, 32)    192         Input[0][0]                      \n",
      "__________________________________________________________________________________________________\n",
      "max_pooling1d_5 (MaxPooling1D)  (None, 12081, 32)    0           conv1d_5[0][0]                   \n",
      "__________________________________________________________________________________________________\n",
      "conv1d_6 (Conv1D)               (None, 12079, 32)    3104        max_pooling1d_5[0][0]            \n",
      "__________________________________________________________________________________________________\n",
      "conv1d_7 (Conv1D)               (None, 12078, 32)    4128        max_pooling1d_5[0][0]            \n",
      "__________________________________________________________________________________________________\n",
      "conv1d_8 (Conv1D)               (None, 12077, 32)    5152        max_pooling1d_5[0][0]            \n",
      "__________________________________________________________________________________________________\n",
      "max_pooling1d_6 (MaxPooling1D)  (None, 4026, 32)     0           conv1d_6[0][0]                   \n",
      "__________________________________________________________________________________________________\n",
      "max_pooling1d_7 (MaxPooling1D)  (None, 4026, 32)     0           conv1d_7[0][0]                   \n",
      "__________________________________________________________________________________________________\n",
      "max_pooling1d_8 (MaxPooling1D)  (None, 4025, 32)     0           conv1d_8[0][0]                   \n",
      "__________________________________________________________________________________________________\n",
      "Merge (Merge)                   (None, 12077, 32)    0           max_pooling1d_6[0][0]            \n",
      "                                                                 max_pooling1d_7[0][0]            \n",
      "                                                                 max_pooling1d_8[0][0]            \n",
      "__________________________________________________________________________________________________\n",
      "conv1d_9 (Conv1D)               (None, 12073, 32)    5152        Merge[0][0]                      \n",
      "__________________________________________________________________________________________________\n",
      "max_pooling1d_12 (MaxPooling1D) (None, 1207, 32)     0           conv1d_9[0][0]                   \n",
      "__________________________________________________________________________________________________\n",
      "dropout_3 (Dropout)             (None, 1207, 32)     0           max_pooling1d_12[0][0]           \n",
      "__________________________________________________________________________________________________\n",
      "Flatten (Flatten)               (None, 38624)        0           dropout_3[0][0]                  \n",
      "__________________________________________________________________________________________________\n",
      "Dense (Dense)                   (None, 100)          3862500     Flatten[0][0]                    \n",
      "__________________________________________________________________________________________________\n",
      "Output (Dense)                  (None, 2)            202         Dense[0][0]                      \n",
      "==================================================================================================\n",
      "Total params: 3,880,430\n",
      "Trainable params: 3,880,430\n",
      "Non-trainable params: 0\n",
      "__________________________________________________________________________________________________\n"
     ]
    }
   ],
   "source": [
    "\n",
    "model.summary()"
   ]
  },
  {
   "cell_type": "code",
   "execution_count": null,
   "metadata": {},
   "outputs": [],
   "source": []
  },
  {
   "cell_type": "code",
   "execution_count": 28,
   "metadata": {},
   "outputs": [],
   "source": [
    "\n",
    "conv.compile(Adam(lr=1e-1),loss='binary_crossentropy', \\\n",
    "                            metrics=['acc'])"
   ]
  },
  {
   "cell_type": "code",
   "execution_count": 29,
   "metadata": {},
   "outputs": [],
   "source": [
    "from keras.callbacks import ModelCheckpoint"
   ]
  },
  {
   "cell_type": "code",
   "execution_count": 30,
   "metadata": {},
   "outputs": [],
   "source": [
    "\n",
    "## Create checkpoint that saves the weights each time validation set at each epoch is outperformed by the last one## Creat \n",
    "filepath=\"weights_bestss.hdf5\"\n",
    "checkpoint = ModelCheckpoint(filepath, \\\n",
    "                             monitor=\"val_acc\", \\\n",
    "                             verbose=1, \\\n",
    "                             save_best_only=True, \\\n",
    "                             mode=\"max\")\n",
    "callbacks_list = [checkpoint]"
   ]
  },
  {
   "cell_type": "code",
   "execution_count": 31,
   "metadata": {},
   "outputs": [],
   "source": [
    "#history = conv.fit(x_train_t, y_train_t, \\\n",
    "#                    validation_data=(x_val, y_val), \\\n",
    "#                    epochs=100, \\\n",
    "#                    batch_size=2, \\\n",
    "#                    callbacks=callbacks_list, \\\n",
    "#                    verbose=1)"
   ]
  },
  {
   "cell_type": "code",
   "execution_count": 32,
   "metadata": {},
   "outputs": [],
   "source": [
    "from keras.utils.np_utils import to_categorical\n",
    "\n",
    "y_train_t2 = to_categorical(y_train_t, num_classes=2)\n",
    "y_val2 = to_categorical(y_val, num_classes=2)"
   ]
  },
  {
   "cell_type": "code",
   "execution_count": 33,
   "metadata": {},
   "outputs": [],
   "source": [
    "\n",
    "model.compile(loss='binary_crossentropy', \\\n",
    "              optimizer=Adam(lr=1e-5), \\\n",
    "              metrics=['acc'])"
   ]
  },
  {
   "cell_type": "code",
   "execution_count": 34,
   "metadata": {},
   "outputs": [
    {
     "name": "stdout",
     "output_type": "stream",
     "text": [
      "Train on 16960 samples, validate on 4240 samples\n",
      "Epoch 1/100\n",
      "16960/16960 [==============================] - 325s 19ms/step - loss: 0.6918 - acc: 0.5483 - val_loss: 0.6804 - val_acc: 0.5717\n",
      "\n",
      "Epoch 00001: val_acc improved from -inf to 0.57170, saving model to weights_bestss.hdf5\n",
      "Epoch 2/100\n",
      "16960/16960 [==============================] - 324s 19ms/step - loss: 0.6846 - acc: 0.5616 - val_loss: 0.6792 - val_acc: 0.5717\n",
      "\n",
      "Epoch 00002: val_acc did not improve from 0.57170\n",
      "Epoch 3/100\n",
      "16960/16960 [==============================] - 324s 19ms/step - loss: 0.6808 - acc: 0.5661 - val_loss: 0.6751 - val_acc: 0.5750\n",
      "\n",
      "Epoch 00003: val_acc improved from 0.57170 to 0.57500, saving model to weights_bestss.hdf5\n",
      "Epoch 4/100\n",
      "16960/16960 [==============================] - 323s 19ms/step - loss: 0.6746 - acc: 0.5810 - val_loss: 0.6682 - val_acc: 0.5950\n",
      "\n",
      "Epoch 00004: val_acc improved from 0.57500 to 0.59505, saving model to weights_bestss.hdf5\n",
      "Epoch 5/100\n",
      "16960/16960 [==============================] - 324s 19ms/step - loss: 0.6671 - acc: 0.5960 - val_loss: 0.6611 - val_acc: 0.5972\n",
      "\n",
      "Epoch 00005: val_acc improved from 0.59505 to 0.59717, saving model to weights_bestss.hdf5\n",
      "Epoch 6/100\n",
      "16960/16960 [==============================] - 323s 19ms/step - loss: 0.6572 - acc: 0.6181 - val_loss: 0.6514 - val_acc: 0.6151\n",
      "\n",
      "Epoch 00006: val_acc improved from 0.59717 to 0.61509, saving model to weights_bestss.hdf5\n",
      "Epoch 7/100\n",
      "16960/16960 [==============================] - 323s 19ms/step - loss: 0.6461 - acc: 0.6302 - val_loss: 0.6411 - val_acc: 0.6462\n",
      "\n",
      "Epoch 00007: val_acc improved from 0.61509 to 0.64623, saving model to weights_bestss.hdf5\n",
      "Epoch 8/100\n",
      "16960/16960 [==============================] - 323s 19ms/step - loss: 0.6338 - acc: 0.6479 - val_loss: 0.6306 - val_acc: 0.6486\n",
      "\n",
      "Epoch 00008: val_acc improved from 0.64623 to 0.64858, saving model to weights_bestss.hdf5\n",
      "Epoch 9/100\n",
      "16960/16960 [==============================] - 323s 19ms/step - loss: 0.6214 - acc: 0.6682 - val_loss: 0.6300 - val_acc: 0.6604\n",
      "\n",
      "Epoch 00009: val_acc improved from 0.64858 to 0.66038, saving model to weights_bestss.hdf5\n",
      "Epoch 10/100\n",
      "16960/16960 [==============================] - 323s 19ms/step - loss: 0.6081 - acc: 0.6804 - val_loss: 0.6117 - val_acc: 0.6781\n",
      "\n",
      "Epoch 00010: val_acc improved from 0.66038 to 0.67807, saving model to weights_bestss.hdf5\n",
      "Epoch 11/100\n",
      "16960/16960 [==============================] - 324s 19ms/step - loss: 0.5978 - acc: 0.6901 - val_loss: 0.6044 - val_acc: 0.6804\n",
      "\n",
      "Epoch 00011: val_acc improved from 0.67807 to 0.68042, saving model to weights_bestss.hdf5\n",
      "Epoch 12/100\n",
      "16960/16960 [==============================] - 324s 19ms/step - loss: 0.5908 - acc: 0.6892 - val_loss: 0.6013 - val_acc: 0.6771\n",
      "\n",
      "Epoch 00012: val_acc did not improve from 0.68042\n",
      "Epoch 13/100\n",
      "16960/16960 [==============================] - 325s 19ms/step - loss: 0.5804 - acc: 0.7011 - val_loss: 0.6131 - val_acc: 0.6573\n",
      "\n",
      "Epoch 00013: val_acc did not improve from 0.68042\n",
      "Epoch 14/100\n",
      "16960/16960 [==============================] - 326s 19ms/step - loss: 0.5729 - acc: 0.7068 - val_loss: 0.5928 - val_acc: 0.6771\n",
      "\n",
      "Epoch 00014: val_acc did not improve from 0.68042\n",
      "Epoch 15/100\n",
      "16960/16960 [==============================] - 326s 19ms/step - loss: 0.5650 - acc: 0.7107 - val_loss: 0.5850 - val_acc: 0.6875\n",
      "\n",
      "Epoch 00015: val_acc improved from 0.68042 to 0.68750, saving model to weights_bestss.hdf5\n",
      "Epoch 16/100\n",
      "16960/16960 [==============================] - 326s 19ms/step - loss: 0.5580 - acc: 0.7175 - val_loss: 0.5887 - val_acc: 0.6795\n",
      "\n",
      "Epoch 00016: val_acc did not improve from 0.68750\n",
      "Epoch 17/100\n",
      "16960/16960 [==============================] - 325s 19ms/step - loss: 0.5494 - acc: 0.7208 - val_loss: 0.5956 - val_acc: 0.6741\n",
      "\n",
      "Epoch 00017: val_acc did not improve from 0.68750\n",
      "Epoch 18/100\n",
      "16960/16960 [==============================] - 325s 19ms/step - loss: 0.5430 - acc: 0.7310 - val_loss: 0.5784 - val_acc: 0.6910\n",
      "\n",
      "Epoch 00018: val_acc improved from 0.68750 to 0.69104, saving model to weights_bestss.hdf5\n",
      "Epoch 19/100\n",
      "16960/16960 [==============================] - 325s 19ms/step - loss: 0.5359 - acc: 0.7362 - val_loss: 0.5789 - val_acc: 0.6908\n",
      "\n",
      "Epoch 00019: val_acc did not improve from 0.69104\n",
      "Epoch 20/100\n",
      "16960/16960 [==============================] - 325s 19ms/step - loss: 0.5310 - acc: 0.7373 - val_loss: 0.5755 - val_acc: 0.6915\n",
      "\n",
      "Epoch 00020: val_acc improved from 0.69104 to 0.69151, saving model to weights_bestss.hdf5\n",
      "Epoch 21/100\n",
      "16960/16960 [==============================] - 325s 19ms/step - loss: 0.5244 - acc: 0.7429 - val_loss: 0.5749 - val_acc: 0.6960\n",
      "\n",
      "Epoch 00021: val_acc improved from 0.69151 to 0.69599, saving model to weights_bestss.hdf5\n",
      "Epoch 22/100\n",
      "16960/16960 [==============================] - 325s 19ms/step - loss: 0.5180 - acc: 0.7489 - val_loss: 0.5785 - val_acc: 0.6913\n",
      "\n",
      "Epoch 00022: val_acc did not improve from 0.69599\n",
      "Epoch 23/100\n",
      "16960/16960 [==============================] - 325s 19ms/step - loss: 0.5107 - acc: 0.7527 - val_loss: 0.5758 - val_acc: 0.6960\n",
      "\n",
      "Epoch 00023: val_acc did not improve from 0.69599\n",
      "Epoch 24/100\n",
      "16960/16960 [==============================] - 324s 19ms/step - loss: 0.5064 - acc: 0.7537 - val_loss: 0.5728 - val_acc: 0.6955\n",
      "\n",
      "Epoch 00024: val_acc did not improve from 0.69599\n",
      "Epoch 25/100\n",
      "16960/16960 [==============================] - 324s 19ms/step - loss: 0.4988 - acc: 0.7600 - val_loss: 0.5798 - val_acc: 0.6899\n",
      "\n",
      "Epoch 00025: val_acc did not improve from 0.69599\n",
      "Epoch 26/100\n",
      "16960/16960 [==============================] - 324s 19ms/step - loss: 0.4906 - acc: 0.7658 - val_loss: 0.5701 - val_acc: 0.7000\n",
      "\n",
      "Epoch 00026: val_acc improved from 0.69599 to 0.70000, saving model to weights_bestss.hdf5\n",
      "Epoch 27/100\n",
      "16960/16960 [==============================] - 326s 19ms/step - loss: 0.4864 - acc: 0.7721 - val_loss: 0.5700 - val_acc: 0.6967\n",
      "\n",
      "Epoch 00027: val_acc did not improve from 0.70000\n",
      "Epoch 28/100\n",
      "16960/16960 [==============================] - 326s 19ms/step - loss: 0.4779 - acc: 0.7755 - val_loss: 0.5784 - val_acc: 0.6913\n",
      "\n",
      "Epoch 00028: val_acc did not improve from 0.70000\n",
      "Epoch 29/100\n",
      "16960/16960 [==============================] - 326s 19ms/step - loss: 0.4716 - acc: 0.7822 - val_loss: 0.5690 - val_acc: 0.6995\n",
      "\n",
      "Epoch 00029: val_acc did not improve from 0.70000\n",
      "Epoch 30/100\n",
      "16960/16960 [==============================] - 326s 19ms/step - loss: 0.4647 - acc: 0.7837 - val_loss: 0.5689 - val_acc: 0.6974\n",
      "\n",
      "Epoch 00030: val_acc did not improve from 0.70000\n",
      "Epoch 31/100\n",
      "16960/16960 [==============================] - 326s 19ms/step - loss: 0.4579 - acc: 0.7893 - val_loss: 0.5741 - val_acc: 0.6965\n",
      "\n",
      "Epoch 00031: val_acc did not improve from 0.70000\n",
      "Epoch 32/100\n",
      "16960/16960 [==============================] - 326s 19ms/step - loss: 0.4528 - acc: 0.7914 - val_loss: 0.5727 - val_acc: 0.6976\n",
      "\n",
      "Epoch 00032: val_acc did not improve from 0.70000\n",
      "Epoch 33/100\n",
      "16960/16960 [==============================] - 326s 19ms/step - loss: 0.4482 - acc: 0.7913 - val_loss: 0.5796 - val_acc: 0.6946\n",
      "\n",
      "Epoch 00033: val_acc did not improve from 0.70000\n",
      "Epoch 34/100\n",
      "16960/16960 [==============================] - 325s 19ms/step - loss: 0.4413 - acc: 0.7993 - val_loss: 0.5745 - val_acc: 0.6946\n",
      "\n",
      "Epoch 00034: val_acc did not improve from 0.70000\n",
      "Epoch 35/100\n",
      "16960/16960 [==============================] - 325s 19ms/step - loss: 0.4355 - acc: 0.8009 - val_loss: 0.5718 - val_acc: 0.6943\n",
      "\n",
      "Epoch 00035: val_acc did not improve from 0.70000\n",
      "Epoch 36/100\n",
      "16960/16960 [==============================] - 325s 19ms/step - loss: 0.4300 - acc: 0.8076 - val_loss: 0.5888 - val_acc: 0.6927\n",
      "\n",
      "Epoch 00036: val_acc did not improve from 0.70000\n",
      "Epoch 37/100\n",
      "16960/16960 [==============================] - 326s 19ms/step - loss: 0.4238 - acc: 0.8102 - val_loss: 0.5734 - val_acc: 0.6922\n",
      "\n",
      "Epoch 00037: val_acc did not improve from 0.70000\n",
      "Epoch 38/100\n",
      "16960/16960 [==============================] - 325s 19ms/step - loss: 0.4184 - acc: 0.8131 - val_loss: 0.5729 - val_acc: 0.6934\n",
      "\n",
      "Epoch 00038: val_acc did not improve from 0.70000\n",
      "Epoch 39/100\n",
      "16960/16960 [==============================] - 325s 19ms/step - loss: 0.4108 - acc: 0.8199 - val_loss: 0.5787 - val_acc: 0.6981\n",
      "\n",
      "Epoch 00039: val_acc did not improve from 0.70000\n",
      "Epoch 40/100\n",
      "16960/16960 [==============================] - 325s 19ms/step - loss: 0.4034 - acc: 0.8231 - val_loss: 0.5903 - val_acc: 0.6927\n",
      "\n",
      "Epoch 00040: val_acc did not improve from 0.70000\n",
      "Epoch 41/100\n",
      "16960/16960 [==============================] - 326s 19ms/step - loss: 0.4028 - acc: 0.8188 - val_loss: 0.5819 - val_acc: 0.6934\n",
      "\n",
      "Epoch 00041: val_acc did not improve from 0.70000\n",
      "Epoch 42/100\n",
      "16960/16960 [==============================] - 326s 19ms/step - loss: 0.3951 - acc: 0.8291 - val_loss: 0.5767 - val_acc: 0.6922\n",
      "\n",
      "Epoch 00042: val_acc did not improve from 0.70000\n",
      "Epoch 43/100\n",
      "16960/16960 [==============================] - 325s 19ms/step - loss: 0.3901 - acc: 0.8305 - val_loss: 0.5786 - val_acc: 0.6936\n",
      "\n",
      "Epoch 00043: val_acc did not improve from 0.70000\n",
      "Epoch 44/100\n",
      "16960/16960 [==============================] - 325s 19ms/step - loss: 0.3852 - acc: 0.8317 - val_loss: 0.5799 - val_acc: 0.6920\n",
      "\n",
      "Epoch 00044: val_acc did not improve from 0.70000\n",
      "Epoch 45/100\n",
      "16960/16960 [==============================] - 325s 19ms/step - loss: 0.3784 - acc: 0.8355 - val_loss: 0.5819 - val_acc: 0.6955\n",
      "\n",
      "Epoch 00045: val_acc did not improve from 0.70000\n",
      "Epoch 46/100\n",
      "16960/16960 [==============================] - 326s 19ms/step - loss: 0.3821 - acc: 0.8310 - val_loss: 0.5832 - val_acc: 0.6917\n",
      "\n",
      "Epoch 00046: val_acc did not improve from 0.70000\n",
      "Epoch 47/100\n",
      "16960/16960 [==============================] - 326s 19ms/step - loss: 0.3734 - acc: 0.8382 - val_loss: 0.5878 - val_acc: 0.6903\n",
      "\n",
      "Epoch 00047: val_acc did not improve from 0.70000\n",
      "Epoch 48/100\n",
      "16960/16960 [==============================] - 326s 19ms/step - loss: 0.3657 - acc: 0.8416 - val_loss: 0.5973 - val_acc: 0.6842\n",
      "\n",
      "Epoch 00048: val_acc did not improve from 0.70000\n",
      "Epoch 49/100\n",
      "16960/16960 [==============================] - 326s 19ms/step - loss: 0.3646 - acc: 0.8415 - val_loss: 0.5880 - val_acc: 0.6920\n",
      "\n",
      "Epoch 00049: val_acc did not improve from 0.70000\n",
      "Epoch 50/100\n",
      "16960/16960 [==============================] - 326s 19ms/step - loss: 0.3594 - acc: 0.8453 - val_loss: 0.5955 - val_acc: 0.6887\n",
      "\n",
      "Epoch 00050: val_acc did not improve from 0.70000\n",
      "Epoch 51/100\n",
      "16960/16960 [==============================] - 326s 19ms/step - loss: 0.3592 - acc: 0.8437 - val_loss: 0.5924 - val_acc: 0.6932\n",
      "\n",
      "Epoch 00051: val_acc did not improve from 0.70000\n",
      "Epoch 52/100\n",
      "16960/16960 [==============================] - 326s 19ms/step - loss: 0.3490 - acc: 0.8523 - val_loss: 0.5974 - val_acc: 0.6849\n",
      "\n",
      "Epoch 00052: val_acc did not improve from 0.70000\n",
      "Epoch 53/100\n",
      "16960/16960 [==============================] - 327s 19ms/step - loss: 0.3439 - acc: 0.8538 - val_loss: 0.6002 - val_acc: 0.6955\n",
      "\n",
      "Epoch 00053: val_acc did not improve from 0.70000\n",
      "Epoch 54/100\n",
      "16960/16960 [==============================] - 326s 19ms/step - loss: 0.3437 - acc: 0.8560 - val_loss: 0.6122 - val_acc: 0.6892\n",
      "\n",
      "Epoch 00054: val_acc did not improve from 0.70000\n",
      "Epoch 55/100\n",
      "16960/16960 [==============================] - 326s 19ms/step - loss: 0.3384 - acc: 0.8564 - val_loss: 0.5993 - val_acc: 0.6927\n",
      "\n",
      "Epoch 00055: val_acc did not improve from 0.70000\n",
      "Epoch 56/100\n",
      "16960/16960 [==============================] - 325s 19ms/step - loss: 0.3344 - acc: 0.8557 - val_loss: 0.6028 - val_acc: 0.6929\n",
      "\n",
      "Epoch 00056: val_acc did not improve from 0.70000\n",
      "Epoch 57/100\n",
      "16960/16960 [==============================] - 325s 19ms/step - loss: 0.3356 - acc: 0.8581 - val_loss: 0.6023 - val_acc: 0.6887\n",
      "\n",
      "Epoch 00057: val_acc did not improve from 0.70000\n",
      "Epoch 58/100\n",
      "16960/16960 [==============================] - 325s 19ms/step - loss: 0.3296 - acc: 0.8591 - val_loss: 0.6079 - val_acc: 0.6825\n",
      "\n",
      "Epoch 00058: val_acc did not improve from 0.70000\n",
      "Epoch 59/100\n",
      "16960/16960 [==============================] - 325s 19ms/step - loss: 0.3221 - acc: 0.8666 - val_loss: 0.6112 - val_acc: 0.6969\n",
      "\n",
      "Epoch 00059: val_acc did not improve from 0.70000\n",
      "Epoch 60/100\n",
      "16960/16960 [==============================] - 325s 19ms/step - loss: 0.3208 - acc: 0.8650 - val_loss: 0.6123 - val_acc: 0.6818\n",
      "\n",
      "Epoch 00060: val_acc did not improve from 0.70000\n",
      "Epoch 61/100\n",
      "16960/16960 [==============================] - 325s 19ms/step - loss: 0.3185 - acc: 0.8666 - val_loss: 0.6126 - val_acc: 0.6892\n",
      "\n",
      "Epoch 00061: val_acc did not improve from 0.70000\n",
      "Epoch 62/100\n",
      "16960/16960 [==============================] - 325s 19ms/step - loss: 0.3171 - acc: 0.8639 - val_loss: 0.6119 - val_acc: 0.6892\n",
      "\n",
      "Epoch 00062: val_acc did not improve from 0.70000\n",
      "Epoch 63/100\n",
      "16960/16960 [==============================] - 325s 19ms/step - loss: 0.3176 - acc: 0.8628 - val_loss: 0.6169 - val_acc: 0.6830\n",
      "\n",
      "Epoch 00063: val_acc did not improve from 0.70000\n",
      "Epoch 64/100\n",
      "16960/16960 [==============================] - 325s 19ms/step - loss: 0.3080 - acc: 0.8706 - val_loss: 0.6191 - val_acc: 0.6887\n",
      "\n",
      "Epoch 00064: val_acc did not improve from 0.70000\n",
      "Epoch 65/100\n",
      "16960/16960 [==============================] - 325s 19ms/step - loss: 0.3051 - acc: 0.8688 - val_loss: 0.6205 - val_acc: 0.6868\n",
      "\n",
      "Epoch 00065: val_acc did not improve from 0.70000\n",
      "Epoch 66/100\n",
      "16960/16960 [==============================] - 326s 19ms/step - loss: 0.3029 - acc: 0.8712 - val_loss: 0.6237 - val_acc: 0.6884\n",
      "\n",
      "Epoch 00066: val_acc did not improve from 0.70000\n",
      "Epoch 67/100\n",
      "16960/16960 [==============================] - 326s 19ms/step - loss: 0.2982 - acc: 0.8749 - val_loss: 0.6244 - val_acc: 0.6823\n",
      "\n",
      "Epoch 00067: val_acc did not improve from 0.70000\n",
      "Epoch 68/100\n",
      "16960/16960 [==============================] - 326s 19ms/step - loss: 0.2955 - acc: 0.8753 - val_loss: 0.6249 - val_acc: 0.6854\n",
      "\n",
      "Epoch 00068: val_acc did not improve from 0.70000\n",
      "Epoch 69/100\n",
      "16960/16960 [==============================] - 326s 19ms/step - loss: 0.2980 - acc: 0.8747 - val_loss: 0.6329 - val_acc: 0.6877\n",
      "\n",
      "Epoch 00069: val_acc did not improve from 0.70000\n",
      "Epoch 70/100\n",
      "16960/16960 [==============================] - 326s 19ms/step - loss: 0.2955 - acc: 0.8773 - val_loss: 0.6303 - val_acc: 0.6840\n",
      "\n",
      "Epoch 00070: val_acc did not improve from 0.70000\n",
      "Epoch 71/100\n",
      "16960/16960 [==============================] - 326s 19ms/step - loss: 0.2835 - acc: 0.8827 - val_loss: 0.6322 - val_acc: 0.6873\n",
      "\n",
      "Epoch 00071: val_acc did not improve from 0.70000\n",
      "Epoch 72/100\n",
      "16960/16960 [==============================] - 326s 19ms/step - loss: 0.2903 - acc: 0.8767 - val_loss: 0.6375 - val_acc: 0.6781\n",
      "\n",
      "Epoch 00072: val_acc did not improve from 0.70000\n",
      "Epoch 73/100\n",
      "16960/16960 [==============================] - 325s 19ms/step - loss: 0.2824 - acc: 0.8801 - val_loss: 0.6448 - val_acc: 0.6783\n",
      "\n",
      "Epoch 00073: val_acc did not improve from 0.70000\n",
      "Epoch 74/100\n",
      "16960/16960 [==============================] - 326s 19ms/step - loss: 0.2819 - acc: 0.8821 - val_loss: 0.6411 - val_acc: 0.6828\n",
      "\n",
      "Epoch 00074: val_acc did not improve from 0.70000\n",
      "Epoch 75/100\n",
      "16960/16960 [==============================] - 325s 19ms/step - loss: 0.2800 - acc: 0.8848 - val_loss: 0.6448 - val_acc: 0.6868\n",
      "\n",
      "Epoch 00075: val_acc did not improve from 0.70000\n",
      "Epoch 76/100\n",
      "16960/16960 [==============================] - 325s 19ms/step - loss: 0.2795 - acc: 0.8824 - val_loss: 0.6459 - val_acc: 0.6821\n",
      "\n",
      "Epoch 00076: val_acc did not improve from 0.70000\n",
      "Epoch 77/100\n",
      "16960/16960 [==============================] - 325s 19ms/step - loss: 0.2748 - acc: 0.8858 - val_loss: 0.6492 - val_acc: 0.6816\n",
      "\n",
      "Epoch 00077: val_acc did not improve from 0.70000\n",
      "Epoch 78/100\n",
      "16960/16960 [==============================] - 325s 19ms/step - loss: 0.2716 - acc: 0.8864 - val_loss: 0.6485 - val_acc: 0.6800\n",
      "\n",
      "Epoch 00078: val_acc did not improve from 0.70000\n",
      "Epoch 79/100\n",
      "16960/16960 [==============================] - 325s 19ms/step - loss: 0.2773 - acc: 0.8854 - val_loss: 0.6634 - val_acc: 0.6842\n",
      "\n",
      "Epoch 00079: val_acc did not improve from 0.70000\n",
      "Epoch 80/100\n",
      "16960/16960 [==============================] - 325s 19ms/step - loss: 0.2670 - acc: 0.8899 - val_loss: 0.6562 - val_acc: 0.6828\n",
      "\n",
      "Epoch 00080: val_acc did not improve from 0.70000\n",
      "Epoch 81/100\n",
      "16960/16960 [==============================] - 325s 19ms/step - loss: 0.2633 - acc: 0.8883 - val_loss: 0.6687 - val_acc: 0.6755\n",
      "\n",
      "Epoch 00081: val_acc did not improve from 0.70000\n",
      "Epoch 82/100\n",
      "16960/16960 [==============================] - 326s 19ms/step - loss: 0.2629 - acc: 0.8899 - val_loss: 0.6671 - val_acc: 0.6835\n",
      "\n",
      "Epoch 00082: val_acc did not improve from 0.70000\n",
      "Epoch 83/100\n"
     ]
    },
    {
     "name": "stdout",
     "output_type": "stream",
     "text": [
      "16960/16960 [==============================] - 325s 19ms/step - loss: 0.2566 - acc: 0.8943 - val_loss: 0.6656 - val_acc: 0.6833\n",
      "\n",
      "Epoch 00083: val_acc did not improve from 0.70000\n",
      "Epoch 84/100\n",
      "16960/16960 [==============================] - 326s 19ms/step - loss: 0.2537 - acc: 0.8969 - val_loss: 0.6658 - val_acc: 0.6807\n",
      "\n",
      "Epoch 00084: val_acc did not improve from 0.70000\n",
      "Epoch 85/100\n",
      "16960/16960 [==============================] - 325s 19ms/step - loss: 0.2521 - acc: 0.8969 - val_loss: 0.6821 - val_acc: 0.6856\n",
      "\n",
      "Epoch 00085: val_acc did not improve from 0.70000\n",
      "Epoch 86/100\n",
      "16960/16960 [==============================] - 324s 19ms/step - loss: 0.2466 - acc: 0.9003 - val_loss: 0.6702 - val_acc: 0.6828\n",
      "\n",
      "Epoch 00086: val_acc did not improve from 0.70000\n",
      "Epoch 87/100\n",
      "16960/16960 [==============================] - 325s 19ms/step - loss: 0.2449 - acc: 0.8986 - val_loss: 0.6914 - val_acc: 0.6703\n",
      "\n",
      "Epoch 00087: val_acc did not improve from 0.70000\n",
      "Epoch 88/100\n",
      "16960/16960 [==============================] - 324s 19ms/step - loss: 0.2438 - acc: 0.9003 - val_loss: 0.6854 - val_acc: 0.6830\n",
      "\n",
      "Epoch 00088: val_acc did not improve from 0.70000\n",
      "Epoch 89/100\n",
      "16960/16960 [==============================] - 325s 19ms/step - loss: 0.2391 - acc: 0.9018 - val_loss: 0.6783 - val_acc: 0.6792\n",
      "\n",
      "Epoch 00089: val_acc did not improve from 0.70000\n",
      "Epoch 90/100\n",
      "16960/16960 [==============================] - 325s 19ms/step - loss: 0.2414 - acc: 0.9049 - val_loss: 0.6835 - val_acc: 0.6844\n",
      "\n",
      "Epoch 00090: val_acc did not improve from 0.70000\n",
      "Epoch 91/100\n",
      "16960/16960 [==============================] - 325s 19ms/step - loss: 0.2380 - acc: 0.9031 - val_loss: 0.6875 - val_acc: 0.6830\n",
      "\n",
      "Epoch 00091: val_acc did not improve from 0.70000\n",
      "Epoch 92/100\n",
      "16960/16960 [==============================] - 324s 19ms/step - loss: 0.2308 - acc: 0.9060 - val_loss: 0.6860 - val_acc: 0.6858\n",
      "\n",
      "Epoch 00092: val_acc did not improve from 0.70000\n",
      "Epoch 93/100\n",
      "16960/16960 [==============================] - 326s 19ms/step - loss: 0.2284 - acc: 0.9073 - val_loss: 0.6858 - val_acc: 0.6840\n",
      "\n",
      "Epoch 00093: val_acc did not improve from 0.70000\n",
      "Epoch 94/100\n",
      "16960/16960 [==============================] - 325s 19ms/step - loss: 0.2237 - acc: 0.9091 - val_loss: 0.7009 - val_acc: 0.6802\n",
      "\n",
      "Epoch 00094: val_acc did not improve from 0.70000\n",
      "Epoch 95/100\n",
      "16960/16960 [==============================] - 325s 19ms/step - loss: 0.2216 - acc: 0.9107 - val_loss: 0.6952 - val_acc: 0.6785\n",
      "\n",
      "Epoch 00095: val_acc did not improve from 0.70000\n",
      "Epoch 96/100\n",
      "16960/16960 [==============================] - 325s 19ms/step - loss: 0.2265 - acc: 0.9095 - val_loss: 0.7016 - val_acc: 0.6833\n",
      "\n",
      "Epoch 00096: val_acc did not improve from 0.70000\n",
      "Epoch 97/100\n",
      "16960/16960 [==============================] - 325s 19ms/step - loss: 0.2241 - acc: 0.9073 - val_loss: 0.6970 - val_acc: 0.6802\n",
      "\n",
      "Epoch 00097: val_acc did not improve from 0.70000\n",
      "Epoch 98/100\n",
      "16960/16960 [==============================] - 324s 19ms/step - loss: 0.2207 - acc: 0.9111 - val_loss: 0.7039 - val_acc: 0.6767\n",
      "\n",
      "Epoch 00098: val_acc did not improve from 0.70000\n",
      "Epoch 99/100\n",
      "16960/16960 [==============================] - 324s 19ms/step - loss: 0.2191 - acc: 0.9120 - val_loss: 0.7041 - val_acc: 0.6783\n",
      "\n",
      "Epoch 00099: val_acc did not improve from 0.70000\n",
      "Epoch 100/100\n",
      "16960/16960 [==============================] - 324s 19ms/step - loss: 0.2096 - acc: 0.9153 - val_loss: 0.7247 - val_acc: 0.6800\n",
      "\n",
      "Epoch 00100: val_acc did not improve from 0.70000\n"
     ]
    }
   ],
   "source": [
    "history = model.fit(x_train_t, y_train_t2, \\\n",
    "                    validation_data=(x_val, y_val2), \\\n",
    "                    epochs=100, \\\n",
    "                    batch_size=8, \\\n",
    "                    callbacks=callbacks_list, \\\n",
    "                    verbose=1)"
   ]
  },
  {
   "cell_type": "code",
   "execution_count": 36,
   "metadata": {},
   "outputs": [
    {
     "data": {
      "text/plain": [
       "dict_keys(['val_loss', 'val_acc', 'loss', 'acc'])"
      ]
     },
     "execution_count": 36,
     "metadata": {},
     "output_type": "execute_result"
    }
   ],
   "source": [
    "history_dict = history.history\n",
    "history_dict.keys()"
   ]
  },
  {
   "cell_type": "code",
   "execution_count": 38,
   "metadata": {},
   "outputs": [],
   "source": [
    "%matplotlib inline\n",
    "\n",
    "import matplotlib\n",
    "import numpy as np\n",
    "import matplotlib.pyplot as plt"
   ]
  },
  {
   "cell_type": "code",
   "execution_count": 40,
   "metadata": {},
   "outputs": [
    {
     "data": {
      "image/png": "[encoded data removed]",
      "text/plain": [
       "<Figure size 432x288 with 1 Axes>"
      ]
     },
     "metadata": {},
     "output_type": "display_data"
    }
   ],
   "source": [
    "\n",
    "history_dicthistory_  = history.history\n",
    "train_loss_values = history_dict['loss']\n",
    "val_loss_values = history_dict['val_loss']\n",
    "\n",
    "num_epochs = 100\n",
    "epochs = range(1, num_epochs + 1)\n",
    "\n",
    "plt.plot(epochs, train_loss_values, 'r', label=\"Training loss\")\n",
    "plt.plot(epochs, val_loss_values, 'b', label=\"Validation loss\")\n",
    "plt.title(\"Training and validation loss\")\n",
    "plt.xlabel(\"Epochs\")\n",
    "plt.ylabel(\"Loss\")\n",
    "plt.legend()\n",
    "\n",
    "plt.show()"
   ]
  },
  {
   "cell_type": "code",
   "execution_count": 42,
   "metadata": {},
   "outputs": [
    {
     "data": {
      "image/png": "[encoded data removed]",
      "text/plain": [
       "<Figure size 432x288 with 1 Axes>"
      ]
     },
     "metadata": {},
     "output_type": "display_data"
    }
   ],
   "source": [
    "\n",
    "history_dicthistory_  = history.history\n",
    "train_acc_values = history_dict['acc']\n",
    "val_acc_values = history_dict['val_acc']\n",
    "\n",
    "num_epochs = 100\n",
    "epochs = range(1, num_epochs + 1)\n",
    "\n",
    "plt.plot(epochs, train_acc_values, 'r', label=\"Training accuracy\")\n",
    "plt.plot(epochs, val_acc_values, 'b', label=\"Validation accuracy\")\n",
    "plt.title(\"Training and validation accuracy\")\n",
    "plt.xlabel(\"Epochs\")\n",
    "plt.ylabel(\"Accuracy\")\n",
    "plt.legend()\n",
    "\n",
    "plt.show()"
   ]
  },
  {
   "cell_type": "code",
   "execution_count": 50,
   "metadata": {},
   "outputs": [],
   "source": [
    "t,_=x_test.shape\n",
    "x_test_t=np.reshape(x_test,(t, 36248,1))"
   ]
  },
  {
   "cell_type": "code",
   "execution_count": 52,
   "metadata": {},
   "outputs": [
    {
     "name": "stdout",
     "output_type": "stream",
     "text": [
      "5300/5300 [==============================] - 19s 4ms/step\n"
     ]
    }
   ],
   "source": [
    "y_pred=model.predict(x_test_t, verbose=1)"
   ]
  },
  {
   "cell_type": "code",
   "execution_count": 54,
   "metadata": {},
   "outputs": [
    {
     "data": {
      "text/plain": [
       "array([[0.03430546, 0.96569455],\n",
       "       [0.9920059 , 0.0079941 ],\n",
       "       [0.564782  , 0.43521795],\n",
       "       ...,\n",
       "       [0.4813056 , 0.51869434],\n",
       "       [0.6632163 , 0.33678365],\n",
       "       [0.91522706, 0.08477288]], dtype=float32)"
      ]
     },
     "execution_count": 54,
     "metadata": {},
     "output_type": "execute_result"
    }
   ],
   "source": [
    "y_pred"
   ]
  },
  {
   "cell_type": "code",
   "execution_count": 61,
   "metadata": {},
   "outputs": [],
   "source": [
    "labels_01 = (y_pred[:,0] < 0.5).astype(np.int)"
   ]
  },
  {
   "cell_type": "code",
   "execution_count": 62,
   "metadata": {},
   "outputs": [
    {
     "name": "stdout",
     "output_type": "stream",
     "text": [
      "0.6808449649775276\n"
     ]
    }
   ],
   "source": [
    "print(roc_auc_score(labels_01,y_test))"
   ]
  },
  {
   "cell_type": "code",
   "execution_count": 65,
   "metadata": {},
   "outputs": [],
   "source": [
    "np.savetxt('pred conv no penalty',labels_01)"
   ]
  },
  {
   "cell_type": "code",
   "execution_count": 69,
   "metadata": {},
   "outputs": [
    {
     "ename": "MemoryError",
     "evalue": "",
     "output_type": "error",
     "traceback": [
      "\u001b[0;31m---------------------------------------------------------------------------\u001b[0m",
      "\u001b[0;31mMemoryError\u001b[0m                               Traceback (most recent call last)",
      "\u001b[0;32m<ipython-input-69-0f9f499ac5f7>\u001b[0m in \u001b[0;36m<module>\u001b[0;34m()\u001b[0m\n\u001b[1;32m      2\u001b[0m \u001b[0mdatat\u001b[0m\u001b[0;34m=\u001b[0m\u001b[0mdatat_temp\u001b[0m\u001b[0;34m.\u001b[0m\u001b[0mdrop\u001b[0m\u001b[0;34m(\u001b[0m\u001b[0;34m'Ids'\u001b[0m\u001b[0;34m,\u001b[0m \u001b[0maxis\u001b[0m\u001b[0;34m=\u001b[0m\u001b[0;36m1\u001b[0m\u001b[0;34m)\u001b[0m\u001b[0;34m\u001b[0m\u001b[0m\n\u001b[1;32m      3\u001b[0m \u001b[0mdatat\u001b[0m\u001b[0;34m=\u001b[0m\u001b[0mdatat\u001b[0m\u001b[0;34m.\u001b[0m\u001b[0mvalues\u001b[0m\u001b[0;34m\u001b[0m\u001b[0m\n\u001b[0;32m----> 4\u001b[0;31m \u001b[0mdatat\u001b[0m\u001b[0;34m=\u001b[0m\u001b[0;34m(\u001b[0m\u001b[0mdatat\u001b[0m\u001b[0;34m-\u001b[0m\u001b[0mmean\u001b[0m\u001b[0;34m)\u001b[0m\u001b[0;34m/\u001b[0m\u001b[0mstd\u001b[0m\u001b[0;34m\u001b[0m\u001b[0m\n\u001b[0m\u001b[1;32m      5\u001b[0m \u001b[0mt\u001b[0m\u001b[0;34m,\u001b[0m\u001b[0m_\u001b[0m\u001b[0;34m=\u001b[0m\u001b[0mdatat\u001b[0m\u001b[0;34m.\u001b[0m\u001b[0mshape\u001b[0m\u001b[0;34m\u001b[0m\u001b[0m\n\u001b[1;32m      6\u001b[0m \u001b[0mx_test_no_answer\u001b[0m\u001b[0;34m=\u001b[0m\u001b[0mnp\u001b[0m\u001b[0;34m.\u001b[0m\u001b[0mreshape\u001b[0m\u001b[0;34m(\u001b[0m\u001b[0mdatat\u001b[0m\u001b[0;34m,\u001b[0m\u001b[0;34m(\u001b[0m\u001b[0mt\u001b[0m\u001b[0;34m,\u001b[0m \u001b[0;36m36248\u001b[0m\u001b[0;34m,\u001b[0m\u001b[0;36m1\u001b[0m\u001b[0;34m)\u001b[0m\u001b[0;34m)\u001b[0m\u001b[0;34m\u001b[0m\u001b[0m\n",
      "\u001b[0;31mMemoryError\u001b[0m: "
     ]
    }
   ],
   "source": [
    "datat_temp = pd.read_csv('./Xtest_challenge_owkin.csv')\n",
    "datat_temp=datat_temp.drop('Ids', axis=1)\n",
    "datat_temp=datat.values\n"
   ]
  },
  {
   "cell_type": "code",
   "execution_count": 73,
   "metadata": {},
   "outputs": [
    {
     "ename": "TypeError",
     "evalue": "Could not operate 0.26483742603365495 with block values ",
     "output_type": "error",
     "traceback": [
      "\u001b[0;31m---------------------------------------------------------------------------\u001b[0m",
      "\u001b[0;31mTypeError\u001b[0m                                 Traceback (most recent call last)",
      "\u001b[0;32m~/anaconda3/envs/tensorflow_p36/lib/python3.6/site-packages/pandas/core/internals.py\u001b[0m in \u001b[0;36meval\u001b[0;34m(self, func, other, errors, try_cast, mgr)\u001b[0m\n\u001b[1;32m   1317\u001b[0m             values, values_mask, other, other_mask = self._try_coerce_args(\n\u001b[0;32m-> 1318\u001b[0;31m                 transf(values), other)\n\u001b[0m\u001b[1;32m   1319\u001b[0m         \u001b[0;32mexcept\u001b[0m \u001b[0mTypeError\u001b[0m\u001b[0;34m:\u001b[0m\u001b[0;34m\u001b[0m\u001b[0m\n",
      "\u001b[0;32m~/anaconda3/envs/tensorflow_p36/lib/python3.6/site-packages/pandas/core/internals.py\u001b[0m in \u001b[0;36m_try_coerce_args\u001b[0;34m(self, values, other)\u001b[0m\n\u001b[1;32m    700\u001b[0m                 \u001b[0mtype\u001b[0m\u001b[0;34m(\u001b[0m\u001b[0mother\u001b[0m\u001b[0;34m)\u001b[0m\u001b[0;34m.\u001b[0m\u001b[0m__name__\u001b[0m\u001b[0;34m,\u001b[0m\u001b[0;34m\u001b[0m\u001b[0m\n\u001b[0;32m--> 701\u001b[0;31m                 type(self).__name__.lower().replace('Block', '')))\n\u001b[0m\u001b[1;32m    702\u001b[0m \u001b[0;34m\u001b[0m\u001b[0m\n",
      "\u001b[0;31mTypeError\u001b[0m: cannot convert float64 to an intblock",
      "\nDuring handling of the above exception, another exception occurred:\n",
      "\u001b[0;31mMemoryError\u001b[0m                               Traceback (most recent call last)",
      "\u001b[0;32m~/anaconda3/envs/tensorflow_p36/lib/python3.6/site-packages/pandas/core/internals.py\u001b[0m in \u001b[0;36meval\u001b[0;34m(self, func, other, errors, try_cast, mgr)\u001b[0m\n\u001b[1;32m   1376\u001b[0m             \u001b[0;32mwith\u001b[0m \u001b[0mnp\u001b[0m\u001b[0;34m.\u001b[0m\u001b[0merrstate\u001b[0m\u001b[0;34m(\u001b[0m\u001b[0mall\u001b[0m\u001b[0;34m=\u001b[0m\u001b[0;34m'ignore'\u001b[0m\u001b[0;34m)\u001b[0m\u001b[0;34m:\u001b[0m\u001b[0;34m\u001b[0m\u001b[0m\n\u001b[0;32m-> 1377\u001b[0;31m                 \u001b[0mresult\u001b[0m \u001b[0;34m=\u001b[0m \u001b[0mget_result\u001b[0m\u001b[0;34m(\u001b[0m\u001b[0mother\u001b[0m\u001b[0;34m)\u001b[0m\u001b[0;34m\u001b[0m\u001b[0m\n\u001b[0m\u001b[1;32m   1378\u001b[0m \u001b[0;34m\u001b[0m\u001b[0m\n",
      "\u001b[0;32m~/anaconda3/envs/tensorflow_p36/lib/python3.6/site-packages/pandas/core/internals.py\u001b[0m in \u001b[0;36mget_result\u001b[0;34m(other)\u001b[0m\n\u001b[1;32m   1345\u001b[0m             \u001b[0;32melse\u001b[0m\u001b[0;34m:\u001b[0m\u001b[0;34m\u001b[0m\u001b[0m\n\u001b[0;32m-> 1346\u001b[0;31m                 \u001b[0mresult\u001b[0m \u001b[0;34m=\u001b[0m \u001b[0mfunc\u001b[0m\u001b[0;34m(\u001b[0m\u001b[0mvalues\u001b[0m\u001b[0;34m,\u001b[0m \u001b[0mother\u001b[0m\u001b[0;34m)\u001b[0m\u001b[0;34m\u001b[0m\u001b[0m\n\u001b[0m\u001b[1;32m   1347\u001b[0m \u001b[0;34m\u001b[0m\u001b[0m\n",
      "\u001b[0;32m~/anaconda3/envs/tensorflow_p36/lib/python3.6/site-packages/pandas/core/ops.py\u001b[0m in \u001b[0;36mna_op\u001b[0;34m(x, y)\u001b[0m\n\u001b[1;32m   1201\u001b[0m         \u001b[0;32mtry\u001b[0m\u001b[0;34m:\u001b[0m\u001b[0;34m\u001b[0m\u001b[0m\n\u001b[0;32m-> 1202\u001b[0;31m             \u001b[0mresult\u001b[0m \u001b[0;34m=\u001b[0m \u001b[0mexpressions\u001b[0m\u001b[0;34m.\u001b[0m\u001b[0mevaluate\u001b[0m\u001b[0;34m(\u001b[0m\u001b[0mop\u001b[0m\u001b[0;34m,\u001b[0m \u001b[0mstr_rep\u001b[0m\u001b[0;34m,\u001b[0m \u001b[0mx\u001b[0m\u001b[0;34m,\u001b[0m \u001b[0my\u001b[0m\u001b[0;34m,\u001b[0m \u001b[0;34m**\u001b[0m\u001b[0meval_kwargs\u001b[0m\u001b[0;34m)\u001b[0m\u001b[0;34m\u001b[0m\u001b[0m\n\u001b[0m\u001b[1;32m   1203\u001b[0m         \u001b[0;32mexcept\u001b[0m \u001b[0mTypeError\u001b[0m\u001b[0;34m:\u001b[0m\u001b[0;34m\u001b[0m\u001b[0m\n",
      "\u001b[0;32m~/anaconda3/envs/tensorflow_p36/lib/python3.6/site-packages/pandas/core/computation/expressions.py\u001b[0m in \u001b[0;36mevaluate\u001b[0;34m(op, op_str, a, b, use_numexpr, **eval_kwargs)\u001b[0m\n\u001b[1;32m    203\u001b[0m     \u001b[0;32mif\u001b[0m \u001b[0muse_numexpr\u001b[0m\u001b[0;34m:\u001b[0m\u001b[0;34m\u001b[0m\u001b[0m\n\u001b[0;32m--> 204\u001b[0;31m         \u001b[0;32mreturn\u001b[0m \u001b[0m_evaluate\u001b[0m\u001b[0;34m(\u001b[0m\u001b[0mop\u001b[0m\u001b[0;34m,\u001b[0m \u001b[0mop_str\u001b[0m\u001b[0;34m,\u001b[0m \u001b[0ma\u001b[0m\u001b[0;34m,\u001b[0m \u001b[0mb\u001b[0m\u001b[0;34m,\u001b[0m \u001b[0;34m**\u001b[0m\u001b[0meval_kwargs\u001b[0m\u001b[0;34m)\u001b[0m\u001b[0;34m\u001b[0m\u001b[0m\n\u001b[0m\u001b[1;32m    205\u001b[0m     \u001b[0;32mreturn\u001b[0m \u001b[0m_evaluate_standard\u001b[0m\u001b[0;34m(\u001b[0m\u001b[0mop\u001b[0m\u001b[0;34m,\u001b[0m \u001b[0mop_str\u001b[0m\u001b[0;34m,\u001b[0m \u001b[0ma\u001b[0m\u001b[0;34m,\u001b[0m \u001b[0mb\u001b[0m\u001b[0;34m)\u001b[0m\u001b[0;34m\u001b[0m\u001b[0m\n",
      "\u001b[0;32m~/anaconda3/envs/tensorflow_p36/lib/python3.6/site-packages/pandas/core/computation/expressions.py\u001b[0m in \u001b[0;36m_evaluate_standard\u001b[0;34m(op, op_str, a, b, **eval_kwargs)\u001b[0m\n\u001b[1;32m     63\u001b[0m     \u001b[0;32mwith\u001b[0m \u001b[0mnp\u001b[0m\u001b[0;34m.\u001b[0m\u001b[0merrstate\u001b[0m\u001b[0;34m(\u001b[0m\u001b[0mall\u001b[0m\u001b[0;34m=\u001b[0m\u001b[0;34m'ignore'\u001b[0m\u001b[0;34m)\u001b[0m\u001b[0;34m:\u001b[0m\u001b[0;34m\u001b[0m\u001b[0m\n\u001b[0;32m---> 64\u001b[0;31m         \u001b[0;32mreturn\u001b[0m \u001b[0mop\u001b[0m\u001b[0;34m(\u001b[0m\u001b[0ma\u001b[0m\u001b[0;34m,\u001b[0m \u001b[0mb\u001b[0m\u001b[0;34m)\u001b[0m\u001b[0;34m\u001b[0m\u001b[0m\n\u001b[0m\u001b[1;32m     65\u001b[0m \u001b[0;34m\u001b[0m\u001b[0m\n",
      "\u001b[0;31mMemoryError\u001b[0m: ",
      "\nDuring handling of the above exception, another exception occurred:\n",
      "\u001b[0;31mTypeError\u001b[0m                                 Traceback (most recent call last)",
      "\u001b[0;32m<ipython-input-73-e7a870583089>\u001b[0m in \u001b[0;36m<module>\u001b[0;34m()\u001b[0m\n\u001b[0;32m----> 1\u001b[0;31m \u001b[0mdatat_temp\u001b[0m\u001b[0;34m=\u001b[0m\u001b[0;34m(\u001b[0m\u001b[0mdatat_temp\u001b[0m\u001b[0;34m-\u001b[0m\u001b[0mmean\u001b[0m\u001b[0;34m)\u001b[0m\u001b[0;34m/\u001b[0m\u001b[0mstd\u001b[0m\u001b[0;34m\u001b[0m\u001b[0m\n\u001b[0m\u001b[1;32m      2\u001b[0m \u001b[0mt\u001b[0m\u001b[0;34m,\u001b[0m\u001b[0m_\u001b[0m\u001b[0;34m=\u001b[0m\u001b[0mdatat\u001b[0m\u001b[0;34m.\u001b[0m\u001b[0mshape\u001b[0m\u001b[0;34m\u001b[0m\u001b[0m\n\u001b[1;32m      3\u001b[0m \u001b[0mx_test_no_answer\u001b[0m\u001b[0;34m=\u001b[0m\u001b[0mnp\u001b[0m\u001b[0;34m.\u001b[0m\u001b[0mreshape\u001b[0m\u001b[0;34m(\u001b[0m\u001b[0mdatat\u001b[0m\u001b[0;34m,\u001b[0m\u001b[0;34m(\u001b[0m\u001b[0mt\u001b[0m\u001b[0;34m,\u001b[0m \u001b[0;36m36248\u001b[0m\u001b[0;34m,\u001b[0m\u001b[0;36m1\u001b[0m\u001b[0;34m)\u001b[0m\u001b[0;34m)\u001b[0m\u001b[0;34m\u001b[0m\u001b[0m\n",
      "\u001b[0;32m~/anaconda3/envs/tensorflow_p36/lib/python3.6/site-packages/pandas/core/ops.py\u001b[0m in \u001b[0;36mf\u001b[0;34m(self, other, axis, level, fill_value)\u001b[0m\n\u001b[1;32m   1265\u001b[0m                 \u001b[0mself\u001b[0m \u001b[0;34m=\u001b[0m \u001b[0mself\u001b[0m\u001b[0;34m.\u001b[0m\u001b[0mfillna\u001b[0m\u001b[0;34m(\u001b[0m\u001b[0mfill_value\u001b[0m\u001b[0;34m)\u001b[0m\u001b[0;34m\u001b[0m\u001b[0m\n\u001b[1;32m   1266\u001b[0m \u001b[0;34m\u001b[0m\u001b[0m\n\u001b[0;32m-> 1267\u001b[0;31m             \u001b[0;32mreturn\u001b[0m \u001b[0mself\u001b[0m\u001b[0;34m.\u001b[0m\u001b[0m_combine_const\u001b[0m\u001b[0;34m(\u001b[0m\u001b[0mother\u001b[0m\u001b[0;34m,\u001b[0m \u001b[0mna_op\u001b[0m\u001b[0;34m)\u001b[0m\u001b[0;34m\u001b[0m\u001b[0m\n\u001b[0m\u001b[1;32m   1268\u001b[0m \u001b[0;34m\u001b[0m\u001b[0m\n\u001b[1;32m   1269\u001b[0m     \u001b[0mf\u001b[0m\u001b[0;34m.\u001b[0m\u001b[0m__name__\u001b[0m \u001b[0;34m=\u001b[0m \u001b[0mname\u001b[0m\u001b[0;34m\u001b[0m\u001b[0m\n",
      "\u001b[0;32m~/anaconda3/envs/tensorflow_p36/lib/python3.6/site-packages/pandas/core/frame.py\u001b[0m in \u001b[0;36m_combine_const\u001b[0;34m(self, other, func, errors, try_cast)\u001b[0m\n\u001b[1;32m   3985\u001b[0m         new_data = self._data.eval(func=func, other=other,\n\u001b[1;32m   3986\u001b[0m                                    \u001b[0merrors\u001b[0m\u001b[0;34m=\u001b[0m\u001b[0merrors\u001b[0m\u001b[0;34m,\u001b[0m\u001b[0;34m\u001b[0m\u001b[0m\n\u001b[0;32m-> 3987\u001b[0;31m                                    try_cast=try_cast)\n\u001b[0m\u001b[1;32m   3988\u001b[0m         \u001b[0;32mreturn\u001b[0m \u001b[0mself\u001b[0m\u001b[0;34m.\u001b[0m\u001b[0m_constructor\u001b[0m\u001b[0;34m(\u001b[0m\u001b[0mnew_data\u001b[0m\u001b[0;34m)\u001b[0m\u001b[0;34m\u001b[0m\u001b[0m\n\u001b[1;32m   3989\u001b[0m \u001b[0;34m\u001b[0m\u001b[0m\n",
      "\u001b[0;32m~/anaconda3/envs/tensorflow_p36/lib/python3.6/site-packages/pandas/core/internals.py\u001b[0m in \u001b[0;36meval\u001b[0;34m(self, **kwargs)\u001b[0m\n\u001b[1;32m   3433\u001b[0m \u001b[0;34m\u001b[0m\u001b[0m\n\u001b[1;32m   3434\u001b[0m     \u001b[0;32mdef\u001b[0m \u001b[0meval\u001b[0m\u001b[0;34m(\u001b[0m\u001b[0mself\u001b[0m\u001b[0;34m,\u001b[0m \u001b[0;34m**\u001b[0m\u001b[0mkwargs\u001b[0m\u001b[0;34m)\u001b[0m\u001b[0;34m:\u001b[0m\u001b[0;34m\u001b[0m\u001b[0m\n\u001b[0;32m-> 3435\u001b[0;31m         \u001b[0;32mreturn\u001b[0m \u001b[0mself\u001b[0m\u001b[0;34m.\u001b[0m\u001b[0mapply\u001b[0m\u001b[0;34m(\u001b[0m\u001b[0;34m'eval'\u001b[0m\u001b[0;34m,\u001b[0m \u001b[0;34m**\u001b[0m\u001b[0mkwargs\u001b[0m\u001b[0;34m)\u001b[0m\u001b[0;34m\u001b[0m\u001b[0m\n\u001b[0m\u001b[1;32m   3436\u001b[0m \u001b[0;34m\u001b[0m\u001b[0m\n\u001b[1;32m   3437\u001b[0m     \u001b[0;32mdef\u001b[0m \u001b[0mquantile\u001b[0m\u001b[0;34m(\u001b[0m\u001b[0mself\u001b[0m\u001b[0;34m,\u001b[0m \u001b[0;34m**\u001b[0m\u001b[0mkwargs\u001b[0m\u001b[0;34m)\u001b[0m\u001b[0;34m:\u001b[0m\u001b[0;34m\u001b[0m\u001b[0m\n",
      "\u001b[0;32m~/anaconda3/envs/tensorflow_p36/lib/python3.6/site-packages/pandas/core/internals.py\u001b[0m in \u001b[0;36mapply\u001b[0;34m(self, f, axes, filter, do_integrity_check, consolidate, **kwargs)\u001b[0m\n\u001b[1;32m   3327\u001b[0m \u001b[0;34m\u001b[0m\u001b[0m\n\u001b[1;32m   3328\u001b[0m             \u001b[0mkwargs\u001b[0m\u001b[0;34m[\u001b[0m\u001b[0;34m'mgr'\u001b[0m\u001b[0;34m]\u001b[0m \u001b[0;34m=\u001b[0m \u001b[0mself\u001b[0m\u001b[0;34m\u001b[0m\u001b[0m\n\u001b[0;32m-> 3329\u001b[0;31m             \u001b[0mapplied\u001b[0m \u001b[0;34m=\u001b[0m \u001b[0mgetattr\u001b[0m\u001b[0;34m(\u001b[0m\u001b[0mb\u001b[0m\u001b[0;34m,\u001b[0m \u001b[0mf\u001b[0m\u001b[0;34m)\u001b[0m\u001b[0;34m(\u001b[0m\u001b[0;34m**\u001b[0m\u001b[0mkwargs\u001b[0m\u001b[0;34m)\u001b[0m\u001b[0;34m\u001b[0m\u001b[0m\n\u001b[0m\u001b[1;32m   3330\u001b[0m             \u001b[0mresult_blocks\u001b[0m \u001b[0;34m=\u001b[0m \u001b[0m_extend_blocks\u001b[0m\u001b[0;34m(\u001b[0m\u001b[0mapplied\u001b[0m\u001b[0;34m,\u001b[0m \u001b[0mresult_blocks\u001b[0m\u001b[0;34m)\u001b[0m\u001b[0;34m\u001b[0m\u001b[0m\n\u001b[1;32m   3331\u001b[0m \u001b[0;34m\u001b[0m\u001b[0m\n",
      "\u001b[0;32m~/anaconda3/envs/tensorflow_p36/lib/python3.6/site-packages/pandas/core/internals.py\u001b[0m in \u001b[0;36meval\u001b[0;34m(self, func, other, errors, try_cast, mgr)\u001b[0m\n\u001b[1;32m   1321\u001b[0m             return block.eval(func, orig_other,\n\u001b[1;32m   1322\u001b[0m                               \u001b[0merrors\u001b[0m\u001b[0;34m=\u001b[0m\u001b[0merrors\u001b[0m\u001b[0;34m,\u001b[0m\u001b[0;34m\u001b[0m\u001b[0m\n\u001b[0;32m-> 1323\u001b[0;31m                               try_cast=try_cast, mgr=mgr)\n\u001b[0m\u001b[1;32m   1324\u001b[0m \u001b[0;34m\u001b[0m\u001b[0m\n\u001b[1;32m   1325\u001b[0m         \u001b[0;31m# get the result, may need to transpose the other\u001b[0m\u001b[0;34m\u001b[0m\u001b[0;34m\u001b[0m\u001b[0m\n",
      "\u001b[0;32m~/anaconda3/envs/tensorflow_p36/lib/python3.6/site-packages/pandas/core/internals.py\u001b[0m in \u001b[0;36meval\u001b[0;34m(self, func, other, errors, try_cast, mgr)\u001b[0m\n\u001b[1;32m   1382\u001b[0m             \u001b[0;32mraise\u001b[0m\u001b[0;34m\u001b[0m\u001b[0m\n\u001b[1;32m   1383\u001b[0m         \u001b[0;32mexcept\u001b[0m \u001b[0mException\u001b[0m \u001b[0;32mas\u001b[0m \u001b[0mdetail\u001b[0m\u001b[0;34m:\u001b[0m\u001b[0;34m\u001b[0m\u001b[0m\n\u001b[0;32m-> 1384\u001b[0;31m             \u001b[0mresult\u001b[0m \u001b[0;34m=\u001b[0m \u001b[0mhandle_error\u001b[0m\u001b[0;34m(\u001b[0m\u001b[0;34m)\u001b[0m\u001b[0;34m\u001b[0m\u001b[0m\n\u001b[0m\u001b[1;32m   1385\u001b[0m \u001b[0;34m\u001b[0m\u001b[0m\n\u001b[1;32m   1386\u001b[0m         \u001b[0;31m# technically a broadcast error in numpy can 'work' by returning a\u001b[0m\u001b[0;34m\u001b[0m\u001b[0;34m\u001b[0m\u001b[0m\n",
      "\u001b[0;32m~/anaconda3/envs/tensorflow_p36/lib/python3.6/site-packages/pandas/core/internals.py\u001b[0m in \u001b[0;36mhandle_error\u001b[0;34m()\u001b[0m\n\u001b[1;32m   1365\u001b[0m                 \u001b[0;31m# The 'detail' variable is defined in outer scope.\u001b[0m\u001b[0;34m\u001b[0m\u001b[0;34m\u001b[0m\u001b[0m\n\u001b[1;32m   1366\u001b[0m                 raise TypeError('Could not operate %s with block values %s' %\n\u001b[0;32m-> 1367\u001b[0;31m                                 (repr(other), str(detail)))  # noqa\n\u001b[0m\u001b[1;32m   1368\u001b[0m             \u001b[0;32melse\u001b[0m\u001b[0;34m:\u001b[0m\u001b[0;34m\u001b[0m\u001b[0m\n\u001b[1;32m   1369\u001b[0m                 \u001b[0;31m# return the values\u001b[0m\u001b[0;34m\u001b[0m\u001b[0;34m\u001b[0m\u001b[0m\n",
      "\u001b[0;31mTypeError\u001b[0m: Could not operate 0.26483742603365495 with block values "
     ]
    }
   ],
   "source": [
    "datat=(datat-mean)/std\n",
    "t,_=datat.shape\n",
    "x_test_no_answer=np.reshape(datat,(t, 36248,1))"
   ]
  },
  {
   "cell_type": "code",
   "execution_count": null,
   "metadata": {},
   "outputs": [],
   "source": [
    "y_pred=model.predict(x_test_no_answer, verbose=1)"
   ]
  }
 ],
 "metadata": {
  "kernelspec": {
   "display_name": "Environment (conda_tensorflow_p36)",
   "language": "python",
   "name": "conda_tensorflow_p36"
  },
  "language_info": {
   "codemirror_mode": {
    "name": "ipython",
    "version": 3
   },
   "file_extension": ".py",
   "mimetype": "text/x-python",
   "name": "python",
   "nbconvert_exporter": "python",
   "pygments_lexer": "ipython3",
   "version": "3.6.4"
  }
 },
 "nbformat": 4,
 "nbformat_minor": 2
}
