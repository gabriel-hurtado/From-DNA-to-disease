{
 "cells": [
  {
   "cell_type": "code",
   "execution_count": 1,
   "metadata": {},
   "outputs": [
    {
     "name": "stderr",
     "output_type": "stream",
     "text": [
      "/home/ubuntu/anaconda3/envs/tensorflow_p36/lib/python3.6/site-packages/matplotlib/__init__.py:1067: UserWarning: Duplicate key in file \"/home/ubuntu/.config/matplotlib/matplotlibrc\", line #2\n",
      "  (fname, cnt))\n",
      "/home/ubuntu/anaconda3/envs/tensorflow_p36/lib/python3.6/site-packages/matplotlib/__init__.py:1067: UserWarning: Duplicate key in file \"/home/ubuntu/.config/matplotlib/matplotlibrc\", line #3\n",
      "  (fname, cnt))\n"
     ]
    }
   ],
   "source": [
    "import pandas as pd\n",
    "from sklearn import svm\n",
    "from sklearn.model_selection import train_test_split\n",
    "from sklearn.metrics import accuracy_score\n",
    "import numpy as np\n",
    "from sklearn.model_selection import *\n",
    "from sklearn.metrics import roc_auc_score"
   ]
  },
  {
   "cell_type": "code",
   "execution_count": 2,
   "metadata": {},
   "outputs": [],
   "source": [
    "N=26500"
   ]
  },
  {
   "cell_type": "code",
   "execution_count": 3,
   "metadata": {},
   "outputs": [],
   "source": [
    "data = pd.read_csv('./Xtrain_challenge_owkin.csv',nrows=N)\n",
    "data=data.drop('Ids', axis=1)\n",
    "data=data.values\n",
    "y = pd.read_csv('./challenge_output_data_training_file_disease_prediction_from_dna_data.csv',nrows=N,sep=';')\n",
    "y=y.drop('Ids', axis=1)\n",
    "y=y.values\n",
    " ## maybe concatenate the SNPs ?"
   ]
  },
  {
   "cell_type": "markdown",
   "metadata": {},
   "source": [
    "# Should be paire 2 by 2 ? Careful to onehot"
   ]
  },
  {
   "cell_type": "code",
   "execution_count": 4,
   "metadata": {},
   "outputs": [],
   "source": [
    "#dataAgg=data.astype('str')\n",
    "#dataAggOdd=dataAgg[:, 0::2]\n",
    "#dataAggEven=dataAgg[:, 1::2]\n",
    "#dataAgg=np.core.defchararray.add(dataAggOdd,dataAggEven)\n",
    "#dataAgg=dataAgg.astype(np.uint8)\n"
   ]
  },
  {
   "cell_type": "code",
   "execution_count": 5,
   "metadata": {},
   "outputs": [],
   "source": [
    "#my_dict = {1:1, 0:0, 11:3, 10:2}\n",
    "#dataAgg=np.vectorize(my_dict.get)(dataAgg)"
   ]
  },
  {
   "cell_type": "code",
   "execution_count": 6,
   "metadata": {},
   "outputs": [],
   "source": [
    "#dataAggHot=(np.arange(dataAgg.max()) == dataAgg[...,None]-1).astype(int)"
   ]
  },
  {
   "cell_type": "code",
   "execution_count": 7,
   "metadata": {},
   "outputs": [],
   "source": [
    "#dataAggHot=np.reshape(np.ravel(dataAggHot), (N, 54372))"
   ]
  },
  {
   "cell_type": "code",
   "execution_count": 8,
   "metadata": {},
   "outputs": [],
   "source": [
    "#meanH=dataAggHot.mean()\n",
    "#stdH=dataAggHot.std()\n",
    "#dataAggHot=(dataAggHot-meanH)/stdH\n",
    "#x_trainH, x_testH, y_trainH, y_testH = train_test_split(dataAggHot,y.ravel(),test_size=0.2,train_size=0.8,random_state=777)\n",
    "#print(\"Size of training set = \"+str(len(x_trainH)))\n",
    "#print(\"Size of test set = \"+str(len(x_testH)))"
   ]
  },
  {
   "cell_type": "markdown",
   "metadata": {},
   "source": [
    "# Nope ?"
   ]
  },
  {
   "cell_type": "code",
   "execution_count": 9,
   "metadata": {},
   "outputs": [
    {
     "name": "stdout",
     "output_type": "stream",
     "text": [
      "Size of training set = 21200\n",
      "Size of test set = 5300\n"
     ]
    }
   ],
   "source": [
    "mean=data.mean()\n",
    "std=data.std()\n",
    "data=(data-mean)/std\n",
    "x_train, x_test, y_train, y_test = train_test_split(data,y.ravel(),test_size=0.2,train_size=0.8,random_state=777)\n",
    "print(\"Size of training set = \"+str(len(x_train)))\n",
    "print(\"Size of test set = \"+str(len(x_test)))"
   ]
  },
  {
   "cell_type": "code",
   "execution_count": 10,
   "metadata": {},
   "outputs": [],
   "source": [
    "w=36248"
   ]
  },
  {
   "cell_type": "code",
   "execution_count": 11,
   "metadata": {},
   "outputs": [],
   "source": [
    "#svm_rbf = svm.SVC(kernel='rbf', C=1e3, gamma=0.1)\n",
    "#svm_lin = svm.SVC(kernel='linear', C=1e3)\n",
    "#svm_poly = svm.SVC(kernel='poly', C=1e3, degree=2)\n",
    "#y_rbf = svm_rbf.fit(x_train, y_train).predict(x_test)\n",
    "#y_lin = svm_lin.fit(x_train, y_train).predict(x_test)\n",
    "#y_poly = svm_poly.fit(x_train, y_train).predict(x_test)"
   ]
  },
  {
   "cell_type": "code",
   "execution_count": 12,
   "metadata": {},
   "outputs": [],
   "source": [
    "#print(roc_auc_score(y_test,y_rbf))\n",
    "#print(roc_auc_score(y_test,y_lin))\n",
    "#print(roc_auc_score(y_test,y_poly))"
   ]
  },
  {
   "cell_type": "code",
   "execution_count": 13,
   "metadata": {},
   "outputs": [],
   "source": [
    "#print(accuracy_score(y_test,y_rbf))\n",
    "#print(accuracy_score(y_test,y_lin))\n",
    "#print(accuracy_score(y_test,y_poly))"
   ]
  },
  {
   "cell_type": "code",
   "execution_count": 14,
   "metadata": {},
   "outputs": [],
   "source": [
    "tuned_parameters = [{'kernel': ['rbf'], 'gamma': [1e-1,1e-2,1e-3, 1,10],\n",
    "                     'C': [1e-3,1e-2,1e-1,1, 10, 100, 1000]},\n",
    "                    {'kernel': ['linear'], 'C': [1e-3,1e-2,1e-1,1, 10, 100, 900,1000,1100,1200]}]\n",
    "\n",
    "\n",
    "#clf = GridSearchCV(svm.SVC(C=1), tuned_parameters, cv=5)\n",
    "#clf.fit(x_train, y_train.ravel())\n",
    "#print(clf.best_params_)\n",
    "#y_true, y_pred = y_test, clf.predict(x_test)\n",
    "#print(accuracy_score(y_true,y_pred))"
   ]
  },
  {
   "cell_type": "markdown",
   "metadata": {},
   "source": [
    "# Forest"
   ]
  },
  {
   "cell_type": "code",
   "execution_count": 15,
   "metadata": {},
   "outputs": [],
   "source": [
    "from sklearn.ensemble import RandomForestClassifier"
   ]
  },
  {
   "cell_type": "code",
   "execution_count": 16,
   "metadata": {},
   "outputs": [],
   "source": [
    "# use a full grid over all parameters\n",
    "clf = RandomForestClassifier(n_estimators=200)\n",
    "param_grid = {\"max_depth\": [3, None],\n",
    "              \"max_features\": [1, 3, 10],\n",
    "              \"min_samples_split\": [2, 3, 5,10,20],\n",
    "              \"min_samples_leaf\": [1, 3, 5,10,20],\n",
    "              \"bootstrap\": [True],\n",
    "              \"criterion\": [\"gini\"]}\n",
    "#grid_search = GridSearchCV(clf, param_grid=param_grid)\n",
    "#grid_search.fit(x_train, y_train.ravel())\n",
    "#print(grid_search.best_params_)\n",
    "#y_true, y_pred = y_test, grid_search.predict(x_test)\n",
    "#print(accuracy_score(y_true,y_pred))"
   ]
  },
  {
   "cell_type": "code",
   "execution_count": null,
   "metadata": {},
   "outputs": [],
   "source": []
  },
  {
   "cell_type": "markdown",
   "metadata": {},
   "source": [
    "# One H data"
   ]
  },
  {
   "cell_type": "code",
   "execution_count": 17,
   "metadata": {},
   "outputs": [],
   "source": [
    "# use a full grid over all parameters\n",
    "clf = RandomForestClassifier(n_estimators=200)\n",
    "param_grid = {\"max_depth\": [3, None],\n",
    "              \"max_features\": [1, 3, 10],\n",
    "              \"min_samples_split\": [2, 3, 5,10,20],\n",
    "              \"min_samples_leaf\": [1, 3, 5,10,20],\n",
    "              \"bootstrap\": [True],\n",
    "              \"criterion\": [\"gini\"]}\n",
    "#grid_search = GridSearchCV(clf, param_grid=param_grid)\n",
    "#grid_search.fit(x_trainH, y_train.ravel())\n",
    "#print(grid_search.best_params_)\n",
    "#y_true, y_pred = y_test, grid_search.predict(x_testH)\n",
    "#print(accuracy_score(y_true,y_pred))"
   ]
  },
  {
   "cell_type": "code",
   "execution_count": 18,
   "metadata": {},
   "outputs": [],
   "source": [
    "#svm_rbf = svm.SVC(kernel='rbf', C=1e3, gamma=0.1)\n",
    "#svm_lin = svm.SVC(kernel='linear', C=1e3)\n",
    "#svm_poly = svm.SVC(kernel='poly', C=1e3, degree=2)\n",
    "#y_rbf = svm_rbf.fit(x_trainH, y_train).predict(x_testH)\n",
    "#y_lin = svm_lin.fit(x_trainH, y_train).predict(x_testH)\n",
    "#y_poly = svm_poly.fit(x_trainH, y_train).predict(x_testH)"
   ]
  },
  {
   "cell_type": "code",
   "execution_count": 19,
   "metadata": {},
   "outputs": [],
   "source": [
    "#print(accuracy_score(y_test,y_rbf))\n",
    "#print(accuracy_score(y_test,y_lin))\n",
    "#print(accuracy_score(y_test,y_poly))"
   ]
  },
  {
   "cell_type": "code",
   "execution_count": 20,
   "metadata": {},
   "outputs": [],
   "source": [
    "#tuned_parameters = [{'kernel': ['rbf'], 'gamma': [1e-1,1e-2,1e-3, 1,10],\n",
    "#                     'C': [1e-3,1e-2,1e-1,1, 10, 100, 1000]},\n",
    "#                    {'kernel': ['linear'], 'C': [1e-3,1e-2,1e-1,1, 10, 100, 900,1000,1100,1200]}]#\n",
    "\n",
    "\n",
    "#clf = GridSearchCV(svm.SVC(C=1), tuned_parameters, cv=5)\n",
    "#clf.fit(x_trainH, y_train.ravel())\n",
    "#print(clf.best_params_)\n",
    "#y_true, y_pred = y_test, clf.predict(x_testH)\n",
    "#print(accuracy_score(y_true,y_pred))"
   ]
  },
  {
   "cell_type": "markdown",
   "metadata": {},
   "source": [
    "# Deep ?"
   ]
  },
  {
   "cell_type": "code",
   "execution_count": 21,
   "metadata": {},
   "outputs": [
    {
     "name": "stderr",
     "output_type": "stream",
     "text": [
      "/home/ubuntu/anaconda3/envs/tensorflow_p36/lib/python3.6/site-packages/h5py/__init__.py:36: FutureWarning: Conversion of the second argument of issubdtype from `float` to `np.floating` is deprecated. In future, it will be treated as `np.float64 == np.dtype(float).type`.\n",
      "  from ._conv import register_converters as _register_converters\n",
      "Using TensorFlow backend.\n"
     ]
    }
   ],
   "source": [
    "from keras.models import Model\n",
    "from keras.models import Sequential\n",
    "from keras.layers import Dense, Input, Flatten, Dropout, Merge\n",
    "from keras.layers import Conv1D, MaxPooling1D, Embedding\n",
    "from keras.optimizers import Adam"
   ]
  },
  {
   "cell_type": "code",
   "execution_count": 22,
   "metadata": {},
   "outputs": [],
   "source": [
    "x_train_t, x_val, y_train_t, y_val = train_test_split(x_train,y_train.ravel(),test_size=0.2,train_size=0.8,random_state=777)\n",
    "\n",
    "t,_=x_train_t.shape\n",
    "\n",
    "x_train_t=np.reshape(x_train_t,(t, 36248,1))\n",
    "y_train_t=np.reshape(y_train_t,(t, 1))\n",
    "\n",
    "t,_=x_val.shape\n",
    "x_val=np.reshape(x_val,(t, 36248,1))\n",
    "y_val=np.reshape(y_val,(t, 1))"
   ]
  },
  {
   "cell_type": "code",
   "execution_count": 23,
   "metadata": {},
   "outputs": [],
   "source": [
    "\n",
    "\n",
    "conv = Sequential()\n",
    "conv.add(Conv1D(20, 4, input_shape = x_train_t.shape[1:3], activation = 'relu'))\n",
    "conv.add(Conv1D(20, 4, input_shape = x_train_t.shape[1:3], activation = 'relu'))\n",
    "conv.add(Conv1D(20, 4, input_shape = x_train_t.shape[1:3], activation = 'relu'))\n",
    "conv.add(MaxPooling1D(2))\n",
    "conv.add(Dropout(0.5))\n",
    "conv.add(Conv1D(20, 4, input_shape = x_train_t.shape[1:3], activation = 'relu'))\n",
    "conv.add(MaxPooling1D(10))\n",
    "\n",
    "conv.add(Flatten())\n",
    "conv.add(Dense(1000, activation = 'sigmoid'))\n",
    "conv.add(Dense(500, activation = 'sigmoid'))\n",
    "conv.add(Dropout(0.5))\n",
    "conv.add(Dense(200, activation = 'sigmoid'))\n",
    "conv.add(Dense(60, activation = 'sigmoid'))\n",
    "conv.add(Dense(1, activation = 'sigmoid'))"
   ]
  },
  {
   "cell_type": "code",
   "execution_count": 24,
   "metadata": {},
   "outputs": [
    {
     "name": "stdout",
     "output_type": "stream",
     "text": [
      "_________________________________________________________________\n",
      "Layer (type)                 Output Shape              Param #   \n",
      "=================================================================\n",
      "conv1d_1 (Conv1D)            (None, 36245, 20)         100       \n",
      "_________________________________________________________________\n",
      "conv1d_2 (Conv1D)            (None, 36242, 20)         1620      \n",
      "_________________________________________________________________\n",
      "conv1d_3 (Conv1D)            (None, 36239, 20)         1620      \n",
      "_________________________________________________________________\n",
      "max_pooling1d_1 (MaxPooling1 (None, 18119, 20)         0         \n",
      "_________________________________________________________________\n",
      "dropout_1 (Dropout)          (None, 18119, 20)         0         \n",
      "_________________________________________________________________\n",
      "conv1d_4 (Conv1D)            (None, 18116, 20)         1620      \n",
      "_________________________________________________________________\n",
      "max_pooling1d_2 (MaxPooling1 (None, 1811, 20)          0         \n",
      "_________________________________________________________________\n",
      "flatten_1 (Flatten)          (None, 36220)             0         \n",
      "_________________________________________________________________\n",
      "dense_1 (Dense)              (None, 1000)              36221000  \n",
      "_________________________________________________________________\n",
      "dense_2 (Dense)              (None, 500)               500500    \n",
      "_________________________________________________________________\n",
      "dropout_2 (Dropout)          (None, 500)               0         \n",
      "_________________________________________________________________\n",
      "dense_3 (Dense)              (None, 200)               100200    \n",
      "_________________________________________________________________\n",
      "dense_4 (Dense)              (None, 60)                12060     \n",
      "_________________________________________________________________\n",
      "dense_5 (Dense)              (None, 1)                 61        \n",
      "=================================================================\n",
      "Total params: 36,838,781\n",
      "Trainable params: 36,838,781\n",
      "Non-trainable params: 0\n",
      "_________________________________________________________________\n"
     ]
    }
   ],
   "source": [
    "conv.summary()"
   ]
  },
  {
   "cell_type": "code",
   "execution_count": 25,
   "metadata": {},
   "outputs": [],
   "source": [
    "\n",
    "conv.compile(Adam(lr=1e-5),loss='binary_crossentropy', \\\n",
    "                            metrics=['acc'])"
   ]
  },
  {
   "cell_type": "code",
   "execution_count": 26,
   "metadata": {},
   "outputs": [],
   "source": [
    "from keras.callbacks import ModelCheckpoint"
   ]
  },
  {
   "cell_type": "code",
   "execution_count": 27,
   "metadata": {},
   "outputs": [],
   "source": [
    "\n",
    "## Create checkpoint that saves the weights each time validation set at each epoch is outperformed by the last one## Creat \n",
    "filepath=\"weights_besty Dense.hdf5\"\n",
    "checkpoint = ModelCheckpoint(filepath, \\\n",
    "                             monitor=\"val_acc\", \\\n",
    "                             verbose=1, \\\n",
    "                             save_best_only=True, \\\n",
    "                             mode=\"max\")\n",
    "callbacks_list = [checkpoint]"
   ]
  },
  {
   "cell_type": "code",
   "execution_count": 28,
   "metadata": {},
   "outputs": [
    {
     "name": "stdout",
     "output_type": "stream",
     "text": [
      "Train on 16960 samples, validate on 4240 samples\n",
      "Epoch 1/50\n",
      "16960/16960 [==============================] - 649s 38ms/step - loss: 0.6867 - acc: 0.5623 - val_loss: 0.6840 - val_acc: 0.5717\n",
      "\n",
      "Epoch 00001: val_acc improved from -inf to 0.57170, saving model to weights_besty Dense.hdf5\n",
      "Epoch 2/50\n",
      "16960/16960 [==============================] - 648s 38ms/step - loss: 0.6860 - acc: 0.5623 - val_loss: 0.6829 - val_acc: 0.5717\n",
      "\n",
      "Epoch 00002: val_acc did not improve from 0.57170\n",
      "Epoch 3/50\n",
      "16960/16960 [==============================] - 649s 38ms/step - loss: 0.6855 - acc: 0.5623 - val_loss: 0.6826 - val_acc: 0.5717\n",
      "\n",
      "Epoch 00003: val_acc did not improve from 0.57170\n",
      "Epoch 4/50\n",
      "16960/16960 [==============================] - 648s 38ms/step - loss: 0.6838 - acc: 0.5623 - val_loss: 0.6785 - val_acc: 0.5717\n",
      "\n",
      "Epoch 00004: val_acc did not improve from 0.57170\n",
      "Epoch 5/50\n",
      "16960/16960 [==============================] - 648s 38ms/step - loss: 0.6630 - acc: 0.5966 - val_loss: 0.6354 - val_acc: 0.6825\n",
      "\n",
      "Epoch 00005: val_acc improved from 0.57170 to 0.68255, saving model to weights_besty Dense.hdf5\n",
      "Epoch 6/50\n",
      "16960/16960 [==============================] - 648s 38ms/step - loss: 0.6167 - acc: 0.6738 - val_loss: 0.5967 - val_acc: 0.6906\n",
      "\n",
      "Epoch 00006: val_acc improved from 0.68255 to 0.69057, saving model to weights_besty Dense.hdf5\n",
      "Epoch 7/50\n",
      "16960/16960 [==============================] - 648s 38ms/step - loss: 0.5921 - acc: 0.6943 - val_loss: 0.5839 - val_acc: 0.6965\n",
      "\n",
      "Epoch 00007: val_acc improved from 0.69057 to 0.69646, saving model to weights_besty Dense.hdf5\n",
      "Epoch 8/50\n",
      "16960/16960 [==============================] - 648s 38ms/step - loss: 0.5801 - acc: 0.7001 - val_loss: 0.5868 - val_acc: 0.6913\n",
      "\n",
      "Epoch 00008: val_acc did not improve from 0.69646\n",
      "Epoch 9/50\n",
      "16960/16960 [==============================] - 648s 38ms/step - loss: 0.5695 - acc: 0.7088 - val_loss: 0.5735 - val_acc: 0.7007\n",
      "\n",
      "Epoch 00009: val_acc improved from 0.69646 to 0.70071, saving model to weights_besty Dense.hdf5\n",
      "Epoch 10/50\n",
      "16960/16960 [==============================] - 647s 38ms/step - loss: 0.5604 - acc: 0.7163 - val_loss: 0.5663 - val_acc: 0.7059\n",
      "\n",
      "Epoch 00010: val_acc improved from 0.70071 to 0.70590, saving model to weights_besty Dense.hdf5\n",
      "Epoch 11/50\n",
      "16960/16960 [==============================] - 647s 38ms/step - loss: 0.5546 - acc: 0.7210 - val_loss: 0.5644 - val_acc: 0.7106\n",
      "\n",
      "Epoch 00011: val_acc improved from 0.70590 to 0.71061, saving model to weights_besty Dense.hdf5\n",
      "Epoch 12/50\n",
      "16960/16960 [==============================] - 649s 38ms/step - loss: 0.5470 - acc: 0.7299 - val_loss: 0.5653 - val_acc: 0.7078\n",
      "\n",
      "Epoch 00012: val_acc did not improve from 0.71061\n",
      "Epoch 13/50\n",
      "16960/16960 [==============================] - 649s 38ms/step - loss: 0.5429 - acc: 0.7321 - val_loss: 0.5888 - val_acc: 0.6936\n",
      "\n",
      "Epoch 00013: val_acc did not improve from 0.71061\n",
      "Epoch 14/50\n",
      "16960/16960 [==============================] - 649s 38ms/step - loss: 0.5385 - acc: 0.7353 - val_loss: 0.5610 - val_acc: 0.7132\n",
      "\n",
      "Epoch 00014: val_acc improved from 0.71061 to 0.71321, saving model to weights_besty Dense.hdf5\n",
      "Epoch 15/50\n",
      "16960/16960 [==============================] - 649s 38ms/step - loss: 0.5329 - acc: 0.7390 - val_loss: 0.5609 - val_acc: 0.7116\n",
      "\n",
      "Epoch 00015: val_acc did not improve from 0.71321\n",
      "Epoch 16/50\n",
      "16960/16960 [==============================] - 649s 38ms/step - loss: 0.5285 - acc: 0.7430 - val_loss: 0.5577 - val_acc: 0.7142\n",
      "\n",
      "Epoch 00016: val_acc improved from 0.71321 to 0.71415, saving model to weights_besty Dense.hdf5\n",
      "Epoch 17/50\n",
      "16960/16960 [==============================] - 649s 38ms/step - loss: 0.5234 - acc: 0.7471 - val_loss: 0.5711 - val_acc: 0.7059\n",
      "\n",
      "Epoch 00017: val_acc did not improve from 0.71415\n",
      "Epoch 18/50\n",
      "16960/16960 [==============================] - 650s 38ms/step - loss: 0.5180 - acc: 0.7480 - val_loss: 0.5577 - val_acc: 0.7108\n",
      "\n",
      "Epoch 00018: val_acc did not improve from 0.71415\n",
      "Epoch 19/50\n",
      "16960/16960 [==============================] - 649s 38ms/step - loss: 0.5135 - acc: 0.7547 - val_loss: 0.5614 - val_acc: 0.7118\n",
      "\n",
      "Epoch 00019: val_acc did not improve from 0.71415\n",
      "Epoch 20/50\n",
      "16960/16960 [==============================] - 649s 38ms/step - loss: 0.5118 - acc: 0.7528 - val_loss: 0.5789 - val_acc: 0.7024\n",
      "\n",
      "Epoch 00020: val_acc did not improve from 0.71415\n",
      "Epoch 21/50\n",
      "16960/16960 [==============================] - 649s 38ms/step - loss: 0.5057 - acc: 0.7582 - val_loss: 0.5601 - val_acc: 0.7123\n",
      "\n",
      "Epoch 00021: val_acc did not improve from 0.71415\n",
      "Epoch 22/50\n",
      "16960/16960 [==============================] - 649s 38ms/step - loss: 0.5033 - acc: 0.7610 - val_loss: 0.5599 - val_acc: 0.7118\n",
      "\n",
      "Epoch 00022: val_acc did not improve from 0.71415\n",
      "Epoch 23/50\n",
      "16960/16960 [==============================] - 648s 38ms/step - loss: 0.4961 - acc: 0.7679 - val_loss: 0.5602 - val_acc: 0.7097\n",
      "\n",
      "Epoch 00023: val_acc did not improve from 0.71415\n",
      "Epoch 24/50\n",
      "16960/16960 [==============================] - 649s 38ms/step - loss: 0.4881 - acc: 0.7720 - val_loss: 0.5716 - val_acc: 0.7035\n",
      "\n",
      "Epoch 00024: val_acc did not improve from 0.71415\n",
      "Epoch 25/50\n",
      "16960/16960 [==============================] - 648s 38ms/step - loss: 0.4857 - acc: 0.7725 - val_loss: 0.5723 - val_acc: 0.7083\n",
      "\n",
      "Epoch 00025: val_acc did not improve from 0.71415\n",
      "Epoch 26/50\n",
      "16960/16960 [==============================] - 649s 38ms/step - loss: 0.4733 - acc: 0.7806 - val_loss: 0.5709 - val_acc: 0.7078\n",
      "\n",
      "Epoch 00026: val_acc did not improve from 0.71415\n",
      "Epoch 27/50\n",
      "16960/16960 [==============================] - 648s 38ms/step - loss: 0.4658 - acc: 0.7901 - val_loss: 0.5781 - val_acc: 0.7094\n",
      "\n",
      "Epoch 00027: val_acc did not improve from 0.71415\n",
      "Epoch 28/50\n",
      "16960/16960 [==============================] - 648s 38ms/step - loss: 0.4549 - acc: 0.7957 - val_loss: 0.5879 - val_acc: 0.6955\n",
      "\n",
      "Epoch 00028: val_acc did not improve from 0.71415\n",
      "Epoch 29/50\n",
      "16960/16960 [==============================] - 648s 38ms/step - loss: 0.4400 - acc: 0.8057 - val_loss: 0.5885 - val_acc: 0.7014\n",
      "\n",
      "Epoch 00029: val_acc did not improve from 0.71415\n",
      "Epoch 30/50\n",
      "16960/16960 [==============================] - 648s 38ms/step - loss: 0.4244 - acc: 0.8137 - val_loss: 0.6080 - val_acc: 0.6948\n",
      "\n",
      "Epoch 00030: val_acc did not improve from 0.71415\n",
      "Epoch 31/50\n",
      "16960/16960 [==============================] - 648s 38ms/step - loss: 0.4066 - acc: 0.8286 - val_loss: 0.6090 - val_acc: 0.7024\n",
      "\n",
      "Epoch 00031: val_acc did not improve from 0.71415\n",
      "Epoch 32/50\n",
      "16960/16960 [==============================] - 648s 38ms/step - loss: 0.3879 - acc: 0.8379 - val_loss: 0.6199 - val_acc: 0.7002\n",
      "\n",
      "Epoch 00032: val_acc did not improve from 0.71415\n",
      "Epoch 33/50\n",
      "16960/16960 [==============================] - 648s 38ms/step - loss: 0.3636 - acc: 0.8550 - val_loss: 0.6585 - val_acc: 0.6896\n",
      "\n",
      "Epoch 00033: val_acc did not improve from 0.71415\n",
      "Epoch 34/50\n",
      "16960/16960 [==============================] - 648s 38ms/step - loss: 0.3401 - acc: 0.8655 - val_loss: 0.6781 - val_acc: 0.6870\n",
      "\n",
      "Epoch 00034: val_acc did not improve from 0.71415\n",
      "Epoch 35/50\n",
      "16960/16960 [==============================] - 648s 38ms/step - loss: 0.3152 - acc: 0.8808 - val_loss: 0.6675 - val_acc: 0.6899\n",
      "\n",
      "Epoch 00035: val_acc did not improve from 0.71415\n",
      "Epoch 36/50\n",
      "16960/16960 [==============================] - 649s 38ms/step - loss: 0.2834 - acc: 0.8988 - val_loss: 0.7054 - val_acc: 0.6920\n",
      "\n",
      "Epoch 00036: val_acc did not improve from 0.71415\n",
      "Epoch 37/50\n",
      "16960/16960 [==============================] - 649s 38ms/step - loss: 0.2631 - acc: 0.9067 - val_loss: 0.7162 - val_acc: 0.6884\n",
      "\n",
      "Epoch 00037: val_acc did not improve from 0.71415\n",
      "Epoch 38/50\n",
      "16960/16960 [==============================] - 648s 38ms/step - loss: 0.2342 - acc: 0.9212 - val_loss: 0.7598 - val_acc: 0.6870\n",
      "\n",
      "Epoch 00038: val_acc did not improve from 0.71415\n",
      "Epoch 39/50\n",
      "16960/16960 [==============================] - 648s 38ms/step - loss: 0.2138 - acc: 0.9297 - val_loss: 0.8088 - val_acc: 0.6936\n",
      "\n",
      "Epoch 00039: val_acc did not improve from 0.71415\n",
      "Epoch 40/50\n",
      "16960/16960 [==============================] - 648s 38ms/step - loss: 0.1874 - acc: 0.9412 - val_loss: 0.7889 - val_acc: 0.6920\n",
      "\n",
      "Epoch 00040: val_acc did not improve from 0.71415\n",
      "Epoch 41/50\n",
      "16960/16960 [==============================] - 648s 38ms/step - loss: 0.1673 - acc: 0.9481 - val_loss: 0.8374 - val_acc: 0.6783\n"
     ]
    },
    {
     "name": "stdout",
     "output_type": "stream",
     "text": [
      "\n",
      "Epoch 00041: val_acc did not improve from 0.71415\n",
      "Epoch 42/50\n",
      "16960/16960 [==============================] - 648s 38ms/step - loss: 0.1475 - acc: 0.9556 - val_loss: 0.8594 - val_acc: 0.6724\n",
      "\n",
      "Epoch 00042: val_acc did not improve from 0.71415\n",
      "Epoch 43/50\n",
      "16960/16960 [==============================] - 648s 38ms/step - loss: 0.1334 - acc: 0.9604 - val_loss: 0.8772 - val_acc: 0.6844\n",
      "\n",
      "Epoch 00043: val_acc did not improve from 0.71415\n",
      "Epoch 44/50\n",
      "16960/16960 [==============================] - 648s 38ms/step - loss: 0.1211 - acc: 0.9637 - val_loss: 0.9026 - val_acc: 0.6748\n",
      "\n",
      "Epoch 00044: val_acc did not improve from 0.71415\n",
      "Epoch 45/50\n",
      "16960/16960 [==============================] - 648s 38ms/step - loss: 0.1083 - acc: 0.9698 - val_loss: 0.9270 - val_acc: 0.6882\n",
      "\n",
      "Epoch 00045: val_acc did not improve from 0.71415\n",
      "Epoch 46/50\n",
      "16960/16960 [==============================] - 648s 38ms/step - loss: 0.0982 - acc: 0.9729 - val_loss: 0.9473 - val_acc: 0.6800\n",
      "\n",
      "Epoch 00046: val_acc did not improve from 0.71415\n",
      "Epoch 47/50\n",
      "16960/16960 [==============================] - 648s 38ms/step - loss: 0.0894 - acc: 0.9753 - val_loss: 0.9861 - val_acc: 0.6710\n",
      "\n",
      "Epoch 00047: val_acc did not improve from 0.71415\n",
      "Epoch 48/50\n",
      "16960/16960 [==============================] - 650s 38ms/step - loss: 0.0824 - acc: 0.9774 - val_loss: 1.0394 - val_acc: 0.6686\n",
      "\n",
      "Epoch 00048: val_acc did not improve from 0.71415\n",
      "Epoch 49/50\n",
      "16960/16960 [==============================] - 760s 45ms/step - loss: 0.0799 - acc: 0.9777 - val_loss: 1.0021 - val_acc: 0.6818\n",
      "\n",
      "Epoch 00049: val_acc did not improve from 0.71415\n",
      "Epoch 50/50\n",
      "16960/16960 [==============================] - 1134s 67ms/step - loss: 0.0760 - acc: 0.9792 - val_loss: 1.0580 - val_acc: 0.6642\n",
      "\n",
      "Epoch 00050: val_acc did not improve from 0.71415\n"
     ]
    }
   ],
   "source": [
    "history = conv.fit(x_train_t, y_train_t, \\\n",
    "                    validation_data=(x_val, y_val), \\\n",
    "                    epochs=50, \\\n",
    "                    batch_size=8, \\\n",
    "                    callbacks=callbacks_list, \\\n",
    "                    verbose=1)"
   ]
  },
  {
   "cell_type": "code",
   "execution_count": 29,
   "metadata": {},
   "outputs": [
    {
     "data": {
      "text/plain": [
       "dict_keys(['val_loss', 'val_acc', 'loss', 'acc'])"
      ]
     },
     "execution_count": 29,
     "metadata": {},
     "output_type": "execute_result"
    }
   ],
   "source": [
    "history_dict = history.history\n",
    "history_dict.keys()"
   ]
  },
  {
   "cell_type": "code",
   "execution_count": 30,
   "metadata": {},
   "outputs": [],
   "source": [
    "%matplotlib inline\n",
    "\n",
    "import matplotlib\n",
    "import numpy as np\n",
    "import matplotlib.pyplot as plt"
   ]
  },
  {
   "cell_type": "code",
   "execution_count": 32,
   "metadata": {},
   "outputs": [
    {
     "data": {
      "image/png": "[encoded data removed]",
      "text/plain": [
       "<Figure size 432x288 with 1 Axes>"
      ]
     },
     "metadata": {},
     "output_type": "display_data"
    }
   ],
   "source": [
    "\n",
    "history_dicthistory_  = history.history\n",
    "train_loss_values = history_dict['loss']\n",
    "val_loss_values = history_dict['val_loss']\n",
    "\n",
    "num_epochs = 50\n",
    "epochs = range(1, num_epochs + 1)\n",
    "\n",
    "plt.plot(epochs, train_loss_values, 'r', label=\"Training loss\")\n",
    "plt.plot(epochs, val_loss_values, 'b', label=\"Validation loss\")\n",
    "plt.title(\"Training and validation loss\")\n",
    "plt.xlabel(\"Epochs\")\n",
    "plt.ylabel(\"Loss\")\n",
    "plt.legend()\n",
    "\n",
    "plt.show()"
   ]
  },
  {
   "cell_type": "code",
   "execution_count": 33,
   "metadata": {},
   "outputs": [
    {
     "data": {
      "image/png": "[encoded data removed]",
      "text/plain": [
       "<Figure size 432x288 with 1 Axes>"
      ]
     },
     "metadata": {},
     "output_type": "display_data"
    }
   ],
   "source": [
    "\n",
    "history_dicthistory_  = history.history\n",
    "train_acc_values = history_dict['acc']\n",
    "val_acc_values = history_dict['val_acc']\n",
    "\n",
    "num_epochs = 50\n",
    "epochs = range(1, num_epochs + 1)\n",
    "\n",
    "plt.plot(epochs, train_acc_values, 'r', label=\"Training accuracy\")\n",
    "plt.plot(epochs, val_acc_values, 'b', label=\"Validation accuracy\")\n",
    "plt.title(\"Training and validation accuracy\")\n",
    "plt.xlabel(\"Epochs\")\n",
    "plt.ylabel(\"Accuracy\")\n",
    "plt.legend()\n",
    "\n",
    "plt.show()"
   ]
  },
  {
   "cell_type": "code",
   "execution_count": 36,
   "metadata": {},
   "outputs": [],
   "source": [
    "\n",
    "t,_=x_test.shape\n",
    "\n",
    "x_test=np.reshape(x_test,(t, 36248,1))"
   ]
  },
  {
   "cell_type": "code",
   "execution_count": 37,
   "metadata": {},
   "outputs": [
    {
     "name": "stdout",
     "output_type": "stream",
     "text": [
      "5300/5300 [==============================] - 36s 7ms/step\n"
     ]
    }
   ],
   "source": [
    "y_pred=conv.predict(x_test, verbose=1)"
   ]
  },
  {
   "cell_type": "code",
   "execution_count": 38,
   "metadata": {},
   "outputs": [],
   "source": [
    "datat_temp  = pd.read_csv('./Xtest_challenge_owkin.csv')\n",
    "datat=datat_temp.drop('Ids', axis=1)\n",
    "datat=datat.values\n",
    "datat=(datat-mean)/std\n",
    "t,_=datat.shape\n",
    "x_test_no_answer=np.reshape(datat,(t, 36248,1))"
   ]
  },
  {
   "cell_type": "code",
   "execution_count": 40,
   "metadata": {},
   "outputs": [
    {
     "name": "stdout",
     "output_type": "stream",
     "text": [
      "13250/13250 [==============================] - 98s 7ms/step\n"
     ]
    }
   ],
   "source": [
    "y_pred=conv.predict(x_test_no_answer, verbose=1)"
   ]
  },
  {
   "cell_type": "code",
   "execution_count": 41,
   "metadata": {},
   "outputs": [],
   "source": [
    "np.savetxt('pred conv +dense no penalty',y_pred)"
   ]
  },
  {
   "cell_type": "code",
   "execution_count": null,
   "metadata": {},
   "outputs": [],
   "source": []
  }
 ],
 "metadata": {
  "kernelspec": {
   "display_name": "Environment (conda_tensorflow_p36)",
   "language": "python",
   "name": "conda_tensorflow_p36"
  },
  "language_info": {
   "codemirror_mode": {
    "name": "ipython",
    "version": 3
   },
   "file_extension": ".py",
   "mimetype": "text/x-python",
   "name": "python",
   "nbconvert_exporter": "python",
   "pygments_lexer": "ipython3",
   "version": "3.6.4"
  }
 },
 "nbformat": 4,
 "nbformat_minor": 2
}
