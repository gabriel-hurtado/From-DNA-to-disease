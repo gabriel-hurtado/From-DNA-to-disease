{
 "cells": [
  {
   "cell_type": "code",
   "execution_count": 1,
   "metadata": {},
   "outputs": [
    {
     "name": "stderr",
     "output_type": "stream",
     "text": [
      "/home/ubuntu/anaconda3/envs/tensorflow_p36/lib/python3.6/site-packages/matplotlib/__init__.py:1067: UserWarning: Duplicate key in file \"/home/ubuntu/.config/matplotlib/matplotlibrc\", line #2\n",
      "  (fname, cnt))\n",
      "/home/ubuntu/anaconda3/envs/tensorflow_p36/lib/python3.6/site-packages/matplotlib/__init__.py:1067: UserWarning: Duplicate key in file \"/home/ubuntu/.config/matplotlib/matplotlibrc\", line #3\n",
      "  (fname, cnt))\n"
     ]
    }
   ],
   "source": [
    "import pandas as pd\n",
    "from sklearn import svm\n",
    "from sklearn.model_selection import train_test_split\n",
    "from sklearn.metrics import accuracy_score\n",
    "import numpy as np\n",
    "from sklearn.model_selection import *\n",
    "from sklearn.metrics import roc_auc_score"
   ]
  },
  {
   "cell_type": "code",
   "execution_count": 2,
   "metadata": {},
   "outputs": [],
   "source": [
    "N=26500"
   ]
  },
  {
   "cell_type": "code",
   "execution_count": 3,
   "metadata": {},
   "outputs": [],
   "source": [
    "data = pd.read_csv('./Xtrain_challenge_owkin.csv',nrows=N)\n",
    "data=data.drop('Ids', axis=1)\n",
    "data=data.values\n",
    "y = pd.read_csv('./challenge_output_data_training_file_disease_prediction_from_dna_data.csv',nrows=N,sep=';')\n",
    "y=y.drop('Ids', axis=1)\n",
    "y=y.values\n",
    " ## maybe concatenate the SNPs ?"
   ]
  },
  {
   "cell_type": "markdown",
   "metadata": {},
   "source": [
    "# Should be paire 2 by 2 ? Careful to onehot"
   ]
  },
  {
   "cell_type": "code",
   "execution_count": 4,
   "metadata": {},
   "outputs": [],
   "source": [
    "#dataAgg=data.astype('str')\n",
    "#dataAggOdd=dataAgg[:, 0::2]\n",
    "#dataAggEven=dataAgg[:, 1::2]\n",
    "#dataAgg=np.core.defchararray.add(dataAggOdd,dataAggEven)\n",
    "#dataAgg=dataAgg.astype(np.uint8)\n"
   ]
  },
  {
   "cell_type": "code",
   "execution_count": 5,
   "metadata": {},
   "outputs": [],
   "source": [
    "#my_dict = {1:1, 0:0, 11:3, 10:2}\n",
    "#dataAgg=np.vectorize(my_dict.get)(dataAgg)"
   ]
  },
  {
   "cell_type": "code",
   "execution_count": 6,
   "metadata": {},
   "outputs": [],
   "source": [
    "#dataAggHot=(np.arange(dataAgg.max()) == dataAgg[...,None]-1).astype(int)"
   ]
  },
  {
   "cell_type": "code",
   "execution_count": 7,
   "metadata": {},
   "outputs": [],
   "source": [
    "#dataAggHot=np.reshape(np.ravel(dataAggHot), (N, 54372))"
   ]
  },
  {
   "cell_type": "code",
   "execution_count": 8,
   "metadata": {},
   "outputs": [],
   "source": [
    "#meanH=dataAggHot.mean()\n",
    "#stdH=dataAggHot.std()\n",
    "#dataAggHot=(dataAggHot-meanH)/stdH\n",
    "#x_trainH, x_testH, y_trainH, y_testH = train_test_split(dataAggHot,y.ravel(),test_size=0.2,train_size=0.8,random_state=777)\n",
    "#print(\"Size of training set = \"+str(len(x_trainH)))\n",
    "#print(\"Size of test set = \"+str(len(x_testH)))"
   ]
  },
  {
   "cell_type": "markdown",
   "metadata": {},
   "source": [
    "# Nope ?"
   ]
  },
  {
   "cell_type": "code",
   "execution_count": 9,
   "metadata": {},
   "outputs": [
    {
     "name": "stdout",
     "output_type": "stream",
     "text": [
      "Size of training set = 21200\n",
      "Size of test set = 5300\n"
     ]
    }
   ],
   "source": [
    "mean=data.mean()\n",
    "std=data.std()\n",
    "data=(data-mean)/std\n",
    "x_train, x_test, y_train, y_test = train_test_split(data,y.ravel(),test_size=0.2,train_size=0.8,random_state=777)\n",
    "print(\"Size of training set = \"+str(len(x_train)))\n",
    "print(\"Size of test set = \"+str(len(x_test)))"
   ]
  },
  {
   "cell_type": "code",
   "execution_count": 10,
   "metadata": {},
   "outputs": [],
   "source": [
    "w=36248"
   ]
  },
  {
   "cell_type": "code",
   "execution_count": 11,
   "metadata": {},
   "outputs": [],
   "source": [
    "#svm_rbf = svm.SVC(kernel='rbf', C=1e3, gamma=0.1)\n",
    "#svm_lin = svm.SVC(kernel='linear', C=1e3)\n",
    "#svm_poly = svm.SVC(kernel='poly', C=1e3, degree=2)\n",
    "#y_rbf = svm_rbf.fit(x_train, y_train).predict(x_test)\n",
    "#y_lin = svm_lin.fit(x_train, y_train).predict(x_test)\n",
    "#y_poly = svm_poly.fit(x_train, y_train).predict(x_test)"
   ]
  },
  {
   "cell_type": "code",
   "execution_count": 12,
   "metadata": {},
   "outputs": [],
   "source": [
    "#print(roc_auc_score(y_test,y_rbf))\n",
    "#print(roc_auc_score(y_test,y_lin))\n",
    "#print(roc_auc_score(y_test,y_poly))"
   ]
  },
  {
   "cell_type": "code",
   "execution_count": 13,
   "metadata": {},
   "outputs": [],
   "source": [
    "#print(accuracy_score(y_test,y_rbf))\n",
    "#print(accuracy_score(y_test,y_lin))\n",
    "#print(accuracy_score(y_test,y_poly))"
   ]
  },
  {
   "cell_type": "code",
   "execution_count": 14,
   "metadata": {},
   "outputs": [],
   "source": [
    "tuned_parameters = [{'kernel': ['rbf'], 'gamma': [1e-1,1e-2,1e-3, 1,10],\n",
    "                     'C': [1e-3,1e-2,1e-1,1, 10, 100, 1000]},\n",
    "                    {'kernel': ['linear'], 'C': [1e-3,1e-2,1e-1,1, 10, 100, 900,1000,1100,1200]}]\n",
    "\n",
    "\n",
    "#clf = GridSearchCV(svm.SVC(C=1), tuned_parameters, cv=5)\n",
    "#clf.fit(x_train, y_train.ravel())\n",
    "#print(clf.best_params_)\n",
    "#y_true, y_pred = y_test, clf.predict(x_test)\n",
    "#print(accuracy_score(y_true,y_pred))"
   ]
  },
  {
   "cell_type": "markdown",
   "metadata": {},
   "source": [
    "# Forest"
   ]
  },
  {
   "cell_type": "code",
   "execution_count": 15,
   "metadata": {},
   "outputs": [],
   "source": [
    "from sklearn.ensemble import RandomForestClassifier"
   ]
  },
  {
   "cell_type": "code",
   "execution_count": 16,
   "metadata": {},
   "outputs": [],
   "source": [
    "# use a full grid over all parameters\n",
    "clf = RandomForestClassifier(n_estimators=200)\n",
    "param_grid = {\"max_depth\": [3, None],\n",
    "              \"max_features\": [1, 3, 10],\n",
    "              \"min_samples_split\": [2, 3, 5,10,20],\n",
    "              \"min_samples_leaf\": [1, 3, 5,10,20],\n",
    "              \"bootstrap\": [True],\n",
    "              \"criterion\": [\"gini\"]}\n",
    "#grid_search = GridSearchCV(clf, param_grid=param_grid)\n",
    "#grid_search.fit(x_train, y_train.ravel())\n",
    "#print(grid_search.best_params_)\n",
    "#y_true, y_pred = y_test, grid_search.predict(x_test)\n",
    "#print(accuracy_score(y_true,y_pred))"
   ]
  },
  {
   "cell_type": "code",
   "execution_count": null,
   "metadata": {},
   "outputs": [],
   "source": []
  },
  {
   "cell_type": "markdown",
   "metadata": {},
   "source": [
    "# One H data"
   ]
  },
  {
   "cell_type": "code",
   "execution_count": 17,
   "metadata": {},
   "outputs": [],
   "source": [
    "# use a full grid over all parameters\n",
    "clf = RandomForestClassifier(n_estimators=200)\n",
    "param_grid = {\"max_depth\": [3, None],\n",
    "              \"max_features\": [1, 3, 10],\n",
    "              \"min_samples_split\": [2, 3, 5,10,20],\n",
    "              \"min_samples_leaf\": [1, 3, 5,10,20],\n",
    "              \"bootstrap\": [True],\n",
    "              \"criterion\": [\"gini\"]}\n",
    "#grid_search = GridSearchCV(clf, param_grid=param_grid)\n",
    "#grid_search.fit(x_trainH, y_train.ravel())\n",
    "#print(grid_search.best_params_)\n",
    "#y_true, y_pred = y_test, grid_search.predict(x_testH)\n",
    "#print(accuracy_score(y_true,y_pred))"
   ]
  },
  {
   "cell_type": "code",
   "execution_count": 18,
   "metadata": {},
   "outputs": [],
   "source": [
    "#svm_rbf = svm.SVC(kernel='rbf', C=1e3, gamma=0.1)\n",
    "#svm_lin = svm.SVC(kernel='linear', C=1e3)\n",
    "#svm_poly = svm.SVC(kernel='poly', C=1e3, degree=2)\n",
    "#y_rbf = svm_rbf.fit(x_trainH, y_train).predict(x_testH)\n",
    "#y_lin = svm_lin.fit(x_trainH, y_train).predict(x_testH)\n",
    "#y_poly = svm_poly.fit(x_trainH, y_train).predict(x_testH)"
   ]
  },
  {
   "cell_type": "code",
   "execution_count": 19,
   "metadata": {},
   "outputs": [],
   "source": [
    "#print(accuracy_score(y_test,y_rbf))\n",
    "#print(accuracy_score(y_test,y_lin))\n",
    "#print(accuracy_score(y_test,y_poly))"
   ]
  },
  {
   "cell_type": "code",
   "execution_count": 20,
   "metadata": {},
   "outputs": [],
   "source": [
    "#tuned_parameters = [{'kernel': ['rbf'], 'gamma': [1e-1,1e-2,1e-3, 1,10],\n",
    "#                     'C': [1e-3,1e-2,1e-1,1, 10, 100, 1000]},\n",
    "#                    {'kernel': ['linear'], 'C': [1e-3,1e-2,1e-1,1, 10, 100, 900,1000,1100,1200]}]#\n",
    "\n",
    "\n",
    "#clf = GridSearchCV(svm.SVC(C=1), tuned_parameters, cv=5)\n",
    "#clf.fit(x_trainH, y_train.ravel())\n",
    "#print(clf.best_params_)\n",
    "#y_true, y_pred = y_test, clf.predict(x_testH)\n",
    "#print(accuracy_score(y_true,y_pred))"
   ]
  },
  {
   "cell_type": "markdown",
   "metadata": {},
   "source": [
    "# Deep ?"
   ]
  },
  {
   "cell_type": "code",
   "execution_count": 21,
   "metadata": {},
   "outputs": [
    {
     "name": "stderr",
     "output_type": "stream",
     "text": [
      "/home/ubuntu/anaconda3/envs/tensorflow_p36/lib/python3.6/site-packages/h5py/__init__.py:36: FutureWarning: Conversion of the second argument of issubdtype from `float` to `np.floating` is deprecated. In future, it will be treated as `np.float64 == np.dtype(float).type`.\n",
      "  from ._conv import register_converters as _register_converters\n",
      "Using TensorFlow backend.\n"
     ]
    }
   ],
   "source": [
    "from keras.models import Model\n",
    "from keras.models import Sequential\n",
    "from keras.layers import Dense, Input, Flatten, Dropout, Merge\n",
    "from keras.layers import Conv1D, MaxPooling1D, Embedding\n",
    "from keras.optimizers import Adam"
   ]
  },
  {
   "cell_type": "code",
   "execution_count": 46,
   "metadata": {},
   "outputs": [],
   "source": [
    "def ConvNet( width,  trainable=False):\n",
    "    \n",
    " \n",
    "    \n",
    "    sequence_input = Input(shape=(width,1), dtype=\"float32\", name=\"Input\")\n",
    "    \n",
    " #   l_conv0 = Conv1D(filters=64, kernel_size=5, activation='relu')(sequence_input)\n",
    "  #  l_pool0 = MaxPooling1D(pool_size=3)(l_conv0)\n",
    "    \n",
    "    convs = []\n",
    "    filter_sizes = [3, 4, 5]\n",
    "    \n",
    "    for filter_size in filter_sizes:\n",
    "        l_conv = Conv1D(filters=64, kernel_size=filter_size, activation='relu',activity_regularizer=regularizers.l1(0.000001))(sequence_input)\n",
    "        l_pool = MaxPooling1D(pool_size=3)(l_conv)\n",
    "        convs.append(l_pool)\n",
    "    \n",
    "    l_merge = Merge(mode='concat', concat_axis=1, name=\"Merge\")(convs)\n",
    "    \n",
    "    l_conv1 = Conv1D(filters=32, kernel_size=5, activation='relu')(l_merge)\n",
    "\n",
    "    \n",
    "    l_drop  = Dropout(0.5)(l_conv1)\n",
    "    \n",
    "    \n",
    "    \n",
    "    convs = []# ?\n",
    "    for filter_size in filter_sizes:\n",
    "        l_conv = Conv1D(filters=64, kernel_size=filter_size, activation='relu')(l_drop)\n",
    "        l_pool = MaxPooling1D(pool_size=3)(l_conv)\n",
    "        convs.append(l_pool)\n",
    "    \n",
    "    l_merge2 = Merge(mode='concat', concat_axis=1, name=\"Merge\")(convs)\n",
    "    \n",
    "    l_conv2 = Conv1D(filters=64, kernel_size=5, activation='relu')(l_merge)\n",
    "    l_pool2 = MaxPooling1D(pool_size=10)(l_conv1)\n",
    "    \n",
    "    l_drop2  = Dropout(0.5)(l_pool2)\n",
    "    \n",
    "    l_flat2  = Flatten(name=\"Flatten\")(l_drop2)\n",
    "    \n",
    "    l_dense = Dense(100, activation='relu', name=\"Dense\")(l_flat2)\n",
    "    \n",
    "    \n",
    "    preds = Dense(2, activation='softmax', name=\"Output\")(l_dense)\n",
    "    \n",
    "    model = Model(sequence_input, preds)\n",
    "    \n",
    "    return model"
   ]
  },
  {
   "cell_type": "code",
   "execution_count": 47,
   "metadata": {},
   "outputs": [],
   "source": [
    "x_train_t, x_val, y_train_t, y_val = train_test_split(x_train,y_train.ravel(),test_size=0.2,train_size=0.8,random_state=777)\n",
    "\n",
    "t,_=x_train_t.shape\n",
    "\n",
    "x_train_t=np.reshape(x_train_t,(t, 36248,1))\n",
    "y_train_t=np.reshape(y_train_t,(t, 1))\n",
    "\n",
    "t,_=x_val.shape\n",
    "x_val=np.reshape(x_val,(t, 36248,1))\n",
    "y_val=np.reshape(y_val,(t, 1))"
   ]
  },
  {
   "cell_type": "code",
   "execution_count": 48,
   "metadata": {},
   "outputs": [],
   "source": [
    "from keras import regularizers"
   ]
  },
  {
   "cell_type": "code",
   "execution_count": 49,
   "metadata": {
    "scrolled": true
   },
   "outputs": [
    {
     "name": "stderr",
     "output_type": "stream",
     "text": [
      "/home/ubuntu/anaconda3/envs/tensorflow_p36/lib/python3.6/site-packages/ipykernel/__main__.py:18: UserWarning: The `Merge` layer is deprecated and will be removed after 08/2017. Use instead layers from `keras.layers.merge`, e.g. `add`, `concatenate`, etc.\n",
      "/home/ubuntu/anaconda3/envs/tensorflow_p36/lib/python3.6/site-packages/ipykernel/__main__.py:33: UserWarning: The `Merge` layer is deprecated and will be removed after 08/2017. Use instead layers from `keras.layers.merge`, e.g. `add`, `concatenate`, etc.\n"
     ]
    }
   ],
   "source": [
    "model = ConvNet(\n",
    "                w, \\\n",
    "                trainable=False)"
   ]
  },
  {
   "cell_type": "code",
   "execution_count": 50,
   "metadata": {
    "scrolled": true
   },
   "outputs": [
    {
     "name": "stdout",
     "output_type": "stream",
     "text": [
      "__________________________________________________________________________________________________\n",
      "Layer (type)                    Output Shape         Param #     Connected to                     \n",
      "==================================================================================================\n",
      "Input (InputLayer)              (None, 36248, 1)     0                                            \n",
      "__________________________________________________________________________________________________\n",
      "conv1d_17 (Conv1D)              (None, 36246, 64)    256         Input[0][0]                      \n",
      "__________________________________________________________________________________________________\n",
      "conv1d_18 (Conv1D)              (None, 36245, 64)    320         Input[0][0]                      \n",
      "__________________________________________________________________________________________________\n",
      "conv1d_19 (Conv1D)              (None, 36244, 64)    384         Input[0][0]                      \n",
      "__________________________________________________________________________________________________\n",
      "max_pooling1d_15 (MaxPooling1D) (None, 12082, 64)    0           conv1d_17[0][0]                  \n",
      "__________________________________________________________________________________________________\n",
      "max_pooling1d_16 (MaxPooling1D) (None, 12081, 64)    0           conv1d_18[0][0]                  \n",
      "__________________________________________________________________________________________________\n",
      "max_pooling1d_17 (MaxPooling1D) (None, 12081, 64)    0           conv1d_19[0][0]                  \n",
      "__________________________________________________________________________________________________\n",
      "Merge (Merge)                   (None, 36244, 64)    0           max_pooling1d_15[0][0]           \n",
      "                                                                 max_pooling1d_16[0][0]           \n",
      "                                                                 max_pooling1d_17[0][0]           \n",
      "__________________________________________________________________________________________________\n",
      "conv1d_20 (Conv1D)              (None, 36240, 32)    10272       Merge[0][0]                      \n",
      "__________________________________________________________________________________________________\n",
      "max_pooling1d_21 (MaxPooling1D) (None, 3624, 32)     0           conv1d_20[0][0]                  \n",
      "__________________________________________________________________________________________________\n",
      "dropout_6 (Dropout)             (None, 3624, 32)     0           max_pooling1d_21[0][0]           \n",
      "__________________________________________________________________________________________________\n",
      "Flatten (Flatten)               (None, 115968)       0           dropout_6[0][0]                  \n",
      "__________________________________________________________________________________________________\n",
      "Dense (Dense)                   (None, 100)          11596900    Flatten[0][0]                    \n",
      "__________________________________________________________________________________________________\n",
      "Output (Dense)                  (None, 2)            202         Dense[0][0]                      \n",
      "==================================================================================================\n",
      "Total params: 11,608,334\n",
      "Trainable params: 11,608,334\n",
      "Non-trainable params: 0\n",
      "__________________________________________________________________________________________________\n"
     ]
    }
   ],
   "source": [
    "\n",
    "model.summary()"
   ]
  },
  {
   "cell_type": "code",
   "execution_count": null,
   "metadata": {},
   "outputs": [],
   "source": []
  },
  {
   "cell_type": "code",
   "execution_count": 51,
   "metadata": {},
   "outputs": [],
   "source": [
    "from keras.callbacks import ModelCheckpoint"
   ]
  },
  {
   "cell_type": "code",
   "execution_count": 52,
   "metadata": {},
   "outputs": [],
   "source": [
    "\n",
    "## Create checkpoint that saves the weights each time validation set at each epoch is outperformed by the last one## Creat \n",
    "filepath=\"weights_bestsspenalty.hdf5\"\n",
    "checkpoint = ModelCheckpoint(filepath, \\\n",
    "                             monitor=\"val_acc\", \\\n",
    "                             verbose=1, \\\n",
    "                             save_best_only=True, \\\n",
    "                             mode=\"max\")\n",
    "callbacks_list = [checkpoint]"
   ]
  },
  {
   "cell_type": "code",
   "execution_count": 53,
   "metadata": {},
   "outputs": [],
   "source": [
    "#history = conv.fit(x_train_t, y_train_t, \\\n",
    "#                    validation_data=(x_val, y_val), \\\n",
    "#                    epochs=100, \\\n",
    "#                    batch_size=2, \\\n",
    "#                    callbacks=callbacks_list, \\\n",
    "#                    verbose=1)"
   ]
  },
  {
   "cell_type": "code",
   "execution_count": 54,
   "metadata": {},
   "outputs": [],
   "source": [
    "from keras.utils.np_utils import to_categorical\n",
    "\n",
    "y_train_t2 = to_categorical(y_train_t, num_classes=2)\n",
    "y_val2 = to_categorical(y_val, num_classes=2)"
   ]
  },
  {
   "cell_type": "code",
   "execution_count": 55,
   "metadata": {},
   "outputs": [],
   "source": [
    "\n",
    "model.compile(loss='binary_crossentropy', \\\n",
    "              optimizer=Adam(lr=1e-4), \\\n",
    "              metrics=['acc'])"
   ]
  },
  {
   "cell_type": "code",
   "execution_count": 56,
   "metadata": {},
   "outputs": [
    {
     "name": "stdout",
     "output_type": "stream",
     "text": [
      "Train on 16960 samples, validate on 4240 samples\n",
      "Epoch 1/30\n",
      "16960/16960 [==============================] - 1060s 62ms/step - loss: 1.1044 - acc: 0.5604 - val_loss: 0.6834 - val_acc: 0.5717\n",
      "\n",
      "Epoch 00001: val_acc improved from -inf to 0.57170, saving model to weights_bestsspenalty.hdf5\n",
      "Epoch 2/30\n",
      "16960/16960 [==============================] - 1056s 62ms/step - loss: 0.6764 - acc: 0.5818 - val_loss: 0.6535 - val_acc: 0.6564\n",
      "\n",
      "Epoch 00002: val_acc improved from 0.57170 to 0.65637, saving model to weights_bestsspenalty.hdf5\n",
      "Epoch 3/30\n",
      "16960/16960 [==============================] - 1054s 62ms/step - loss: 0.6263 - acc: 0.6613 - val_loss: 0.6181 - val_acc: 0.6625\n",
      "\n",
      "Epoch 00003: val_acc improved from 0.65637 to 0.66250, saving model to weights_bestsspenalty.hdf5\n",
      "Epoch 4/30\n",
      "16960/16960 [==============================] - 1053s 62ms/step - loss: 0.5936 - acc: 0.6905 - val_loss: 0.6010 - val_acc: 0.6774\n",
      "\n",
      "Epoch 00004: val_acc improved from 0.66250 to 0.67736, saving model to weights_bestsspenalty.hdf5\n",
      "Epoch 5/30\n",
      "16960/16960 [==============================] - 1053s 62ms/step - loss: 0.5748 - acc: 0.7061 - val_loss: 0.5844 - val_acc: 0.6981\n",
      "\n",
      "Epoch 00005: val_acc improved from 0.67736 to 0.69811, saving model to weights_bestsspenalty.hdf5\n",
      "Epoch 6/30\n",
      "16960/16960 [==============================] - 1052s 62ms/step - loss: 0.5610 - acc: 0.7156 - val_loss: 0.5845 - val_acc: 0.6917\n",
      "\n",
      "Epoch 00006: val_acc did not improve from 0.69811\n",
      "Epoch 7/30\n",
      "16960/16960 [==============================] - 1053s 62ms/step - loss: 0.5448 - acc: 0.7370 - val_loss: 0.5797 - val_acc: 0.6998\n",
      "\n",
      "Epoch 00007: val_acc improved from 0.69811 to 0.69976, saving model to weights_bestsspenalty.hdf5\n",
      "Epoch 8/30\n",
      "16960/16960 [==============================] - 1052s 62ms/step - loss: 0.5286 - acc: 0.7439 - val_loss: 0.5774 - val_acc: 0.7040\n",
      "\n",
      "Epoch 00008: val_acc improved from 0.69976 to 0.70401, saving model to weights_bestsspenalty.hdf5\n",
      "Epoch 9/30\n",
      "16960/16960 [==============================] - 1051s 62ms/step - loss: 0.5195 - acc: 0.7496 - val_loss: 0.5916 - val_acc: 0.6941\n",
      "\n",
      "Epoch 00009: val_acc did not improve from 0.70401\n",
      "Epoch 10/30\n",
      "16960/16960 [==============================] - 1050s 62ms/step - loss: 0.5082 - acc: 0.7586 - val_loss: 0.5746 - val_acc: 0.7035\n",
      "\n",
      "Epoch 00010: val_acc did not improve from 0.70401\n",
      "Epoch 11/30\n",
      "16960/16960 [==============================] - 1050s 62ms/step - loss: 0.4926 - acc: 0.7679 - val_loss: 0.5771 - val_acc: 0.7052\n",
      "\n",
      "Epoch 00011: val_acc improved from 0.70401 to 0.70519, saving model to weights_bestsspenalty.hdf5\n",
      "Epoch 12/30\n",
      "16960/16960 [==============================] - 1049s 62ms/step - loss: 0.4842 - acc: 0.7746 - val_loss: 0.5798 - val_acc: 0.7073\n",
      "\n",
      "Epoch 00012: val_acc improved from 0.70519 to 0.70731, saving model to weights_bestsspenalty.hdf5\n",
      "Epoch 13/30\n",
      "16960/16960 [==============================] - 1048s 62ms/step - loss: 0.4724 - acc: 0.7817 - val_loss: 0.5846 - val_acc: 0.7000\n",
      "\n",
      "Epoch 00013: val_acc did not improve from 0.70731\n",
      "Epoch 14/30\n",
      "16960/16960 [==============================] - 1049s 62ms/step - loss: 0.4612 - acc: 0.7906 - val_loss: 0.5841 - val_acc: 0.7014\n",
      "\n",
      "Epoch 00014: val_acc did not improve from 0.70731\n",
      "Epoch 15/30\n",
      "16960/16960 [==============================] - 1048s 62ms/step - loss: 0.4523 - acc: 0.7944 - val_loss: 0.5896 - val_acc: 0.7012\n",
      "\n",
      "Epoch 00015: val_acc did not improve from 0.70731\n",
      "Epoch 16/30\n",
      "16960/16960 [==============================] - 1048s 62ms/step - loss: 0.4430 - acc: 0.7998 - val_loss: 0.6072 - val_acc: 0.6962\n",
      "\n",
      "Epoch 00016: val_acc did not improve from 0.70731\n",
      "Epoch 17/30\n",
      "16960/16960 [==============================] - 1048s 62ms/step - loss: 0.4280 - acc: 0.8035 - val_loss: 0.6044 - val_acc: 0.6988\n",
      "\n",
      "Epoch 00017: val_acc did not improve from 0.70731\n",
      "Epoch 18/30\n",
      "16960/16960 [==============================] - 1047s 62ms/step - loss: 0.4231 - acc: 0.8140 - val_loss: 0.5942 - val_acc: 0.7052\n",
      "\n",
      "Epoch 00018: val_acc did not improve from 0.70731\n",
      "Epoch 19/30\n",
      "16960/16960 [==============================] - 1048s 62ms/step - loss: 0.4161 - acc: 0.8162 - val_loss: 0.6078 - val_acc: 0.6955\n",
      "\n",
      "Epoch 00019: val_acc did not improve from 0.70731\n",
      "Epoch 20/30\n",
      "16960/16960 [==============================] - 1048s 62ms/step - loss: 0.4069 - acc: 0.8222 - val_loss: 0.6132 - val_acc: 0.6998\n",
      "\n",
      "Epoch 00020: val_acc did not improve from 0.70731\n",
      "Epoch 21/30\n",
      "16960/16960 [==============================] - 1048s 62ms/step - loss: 0.3994 - acc: 0.8236 - val_loss: 0.6798 - val_acc: 0.6835\n",
      "\n",
      "Epoch 00021: val_acc did not improve from 0.70731\n",
      "Epoch 22/30\n",
      "16960/16960 [==============================] - 1049s 62ms/step - loss: 0.3931 - acc: 0.8285 - val_loss: 0.6379 - val_acc: 0.6873\n",
      "\n",
      "Epoch 00022: val_acc did not improve from 0.70731\n",
      "Epoch 23/30\n",
      "16960/16960 [==============================] - 1440s 85ms/step - loss: 0.3920 - acc: 0.8299 - val_loss: 0.6164 - val_acc: 0.7000\n",
      "\n",
      "Epoch 00023: val_acc did not improve from 0.70731\n",
      "Epoch 24/30\n",
      "16960/16960 [==============================] - 1765s 104ms/step - loss: 0.3734 - acc: 0.8370 - val_loss: 0.6440 - val_acc: 0.6953\n",
      "\n",
      "Epoch 00024: val_acc did not improve from 0.70731\n",
      "Epoch 25/30\n",
      "16960/16960 [==============================] - 1760s 104ms/step - loss: 0.3750 - acc: 0.8369 - val_loss: 0.6294 - val_acc: 0.6901\n",
      "\n",
      "Epoch 00025: val_acc did not improve from 0.70731\n",
      "Epoch 26/30\n",
      "16960/16960 [==============================] - 1760s 104ms/step - loss: 0.3714 - acc: 0.8383 - val_loss: 0.6413 - val_acc: 0.6948\n",
      "\n",
      "Epoch 00026: val_acc did not improve from 0.70731\n",
      "Epoch 27/30\n",
      "16960/16960 [==============================] - 1757s 104ms/step - loss: 0.3610 - acc: 0.8465 - val_loss: 0.6429 - val_acc: 0.6929\n",
      "\n",
      "Epoch 00027: val_acc did not improve from 0.70731\n",
      "Epoch 28/30\n",
      "16960/16960 [==============================] - 1754s 103ms/step - loss: 0.3642 - acc: 0.8442 - val_loss: 0.6463 - val_acc: 0.6901\n",
      "\n",
      "Epoch 00028: val_acc did not improve from 0.70731\n",
      "Epoch 29/30\n",
      "16960/16960 [==============================] - 1750s 103ms/step - loss: 0.3572 - acc: 0.8472 - val_loss: 0.6469 - val_acc: 0.6913\n",
      "\n",
      "Epoch 00029: val_acc did not improve from 0.70731\n",
      "Epoch 30/30\n",
      "16960/16960 [==============================] - 1749s 103ms/step - loss: 0.3502 - acc: 0.8528 - val_loss: 0.6492 - val_acc: 0.6922\n",
      "\n",
      "Epoch 00030: val_acc did not improve from 0.70731\n"
     ]
    }
   ],
   "source": [
    "history = model.fit(x_train_t, y_train_t2, \\\n",
    "                    validation_data=(x_val, y_val2), \\\n",
    "                    epochs=30, \\\n",
    "                    batch_size=6, \\\n",
    "                    callbacks=callbacks_list, \\\n",
    "                    verbose=1)"
   ]
  },
  {
   "cell_type": "code",
   "execution_count": 57,
   "metadata": {},
   "outputs": [
    {
     "data": {
      "text/plain": [
       "dict_keys(['val_loss', 'val_acc', 'loss', 'acc'])"
      ]
     },
     "execution_count": 57,
     "metadata": {},
     "output_type": "execute_result"
    }
   ],
   "source": [
    "history_dict = history.history\n",
    "history_dict.keys()"
   ]
  },
  {
   "cell_type": "code",
   "execution_count": 58,
   "metadata": {},
   "outputs": [],
   "source": [
    "%matplotlib inline\n",
    "\n",
    "import matplotlib\n",
    "import numpy as np\n",
    "import matplotlib.pyplot as plt"
   ]
  },
  {
   "cell_type": "code",
   "execution_count": 60,
   "metadata": {},
   "outputs": [
    {
     "data": {
      "image/png": "[encoded data removed]",
      "text/plain": [
       "<Figure size 432x288 with 1 Axes>"
      ]
     },
     "metadata": {},
     "output_type": "display_data"
    }
   ],
   "source": [
    "\n",
    "history_dicthistory_  = history.history\n",
    "train_loss_values = history_dict['loss']\n",
    "val_loss_values = history_dict['val_loss']\n",
    "\n",
    "num_epochs = 30\n",
    "epochs = range(1, num_epochs + 1)\n",
    "\n",
    "plt.plot(epochs, train_loss_values, 'r', label=\"Training loss\")\n",
    "plt.plot(epochs, val_loss_values, 'b', label=\"Validation loss\")\n",
    "plt.title(\"Training and validation loss\")\n",
    "plt.xlabel(\"Epochs\")\n",
    "plt.ylabel(\"Loss\")\n",
    "plt.legend()\n",
    "\n",
    "plt.show()"
   ]
  },
  {
   "cell_type": "code",
   "execution_count": 61,
   "metadata": {},
   "outputs": [
    {
     "data": {
      "image/png": "[encoded data removed]",
      "text/plain": [
       "<Figure size 432x288 with 1 Axes>"
      ]
     },
     "metadata": {},
     "output_type": "display_data"
    }
   ],
   "source": [
    "\n",
    "history_dicthistory_  = history.history\n",
    "train_acc_values = history_dict['acc']\n",
    "val_acc_values = history_dict['val_acc']\n",
    "\n",
    "num_epochs = 30\n",
    "epochs = range(1, num_epochs + 1)\n",
    "\n",
    "plt.plot(epochs, train_acc_values, 'r', label=\"Training accuracy\")\n",
    "plt.plot(epochs, val_acc_values, 'b', label=\"Validation accuracy\")\n",
    "plt.title(\"Training and validation accuracy\")\n",
    "plt.xlabel(\"Epochs\")\n",
    "plt.ylabel(\"Accuracy\")\n",
    "plt.legend()\n",
    "\n",
    "plt.show()"
   ]
  },
  {
   "cell_type": "code",
   "execution_count": 62,
   "metadata": {},
   "outputs": [],
   "source": [
    "t,_=x_test.shape\n",
    "x_test_t=np.reshape(x_test,(t, 36248,1))"
   ]
  },
  {
   "cell_type": "code",
   "execution_count": 63,
   "metadata": {},
   "outputs": [
    {
     "name": "stdout",
     "output_type": "stream",
     "text": [
      "5300/5300 [==============================] - 84s 16ms/step\n"
     ]
    }
   ],
   "source": [
    "y_pred=model.predict(x_test_t, verbose=1)"
   ]
  },
  {
   "cell_type": "code",
   "execution_count": 64,
   "metadata": {},
   "outputs": [
    {
     "data": {
      "text/plain": [
       "array([[0.01765549, 0.9823445 ],\n",
       "       [0.9586984 , 0.04130162],\n",
       "       [0.8433937 , 0.15660629],\n",
       "       ...,\n",
       "       [0.9872556 , 0.01274437],\n",
       "       [0.99301505, 0.00698495],\n",
       "       [0.5542225 , 0.4457775 ]], dtype=float32)"
      ]
     },
     "execution_count": 64,
     "metadata": {},
     "output_type": "execute_result"
    }
   ],
   "source": [
    "y_pred"
   ]
  },
  {
   "cell_type": "code",
   "execution_count": 65,
   "metadata": {},
   "outputs": [],
   "source": [
    "labels_01 = (y_pred[:,0] < 0.5).astype(np.int)"
   ]
  },
  {
   "cell_type": "code",
   "execution_count": 66,
   "metadata": {},
   "outputs": [
    {
     "name": "stdout",
     "output_type": "stream",
     "text": [
      "0.6938645252771206\n"
     ]
    }
   ],
   "source": [
    "print(roc_auc_score(labels_01,y_test))"
   ]
  },
  {
   "cell_type": "code",
   "execution_count": 72,
   "metadata": {},
   "outputs": [],
   "source": [
    "\n",
    "datat_tempdatat_te  = pd.read_csv('./Xtest_challenge_owkin.csv')\n",
    "datat=datat_tempdatat_te.drop('Ids', axis=1)\n",
    "datat=datat.values\n",
    "datat=(datat-mean)/std\n",
    "t,_=datat.shape\n",
    "x_test_no_answer=np.reshape(datat,(t, 36248,1))"
   ]
  },
  {
   "cell_type": "code",
   "execution_count": 73,
   "metadata": {},
   "outputs": [
    {
     "name": "stdout",
     "output_type": "stream",
     "text": [
      "13250/13250 [==============================] - 193s 15ms/step\n"
     ]
    }
   ],
   "source": [
    "y_pred=model.predict(x_test_no_answer, verbose=1)"
   ]
  },
  {
   "cell_type": "code",
   "execution_count": 74,
   "metadata": {},
   "outputs": [],
   "source": [
    "np.savetxt('predConvL1penalty',y_pred)"
   ]
  },
  {
   "cell_type": "code",
   "execution_count": null,
   "metadata": {},
   "outputs": [],
   "source": []
  },
  {
   "cell_type": "code",
   "execution_count": null,
   "metadata": {},
   "outputs": [],
   "source": []
  },
  {
   "cell_type": "code",
   "execution_count": null,
   "metadata": {},
   "outputs": [],
   "source": []
  }
 ],
 "metadata": {
  "kernelspec": {
   "display_name": "Environment (conda_tensorflow_p36)",
   "language": "python",
   "name": "conda_tensorflow_p36"
  },
  "language_info": {
   "codemirror_mode": {
    "name": "ipython",
    "version": 3
   },
   "file_extension": ".py",
   "mimetype": "text/x-python",
   "name": "python",
   "nbconvert_exporter": "python",
   "pygments_lexer": "ipython3",
   "version": "3.6.4"
  }
 },
 "nbformat": 4,
 "nbformat_minor": 2
}
